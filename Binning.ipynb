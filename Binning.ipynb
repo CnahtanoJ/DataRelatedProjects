{
 "cells": [
  {
   "cell_type": "code",
   "metadata": {
    "cell_id": "1197f461-e114-41f8-baf6-b0929c4a232a",
    "deepnote_cell_type": "code"
   },
   "source": "import numpy as np\nimport pandas as pd\nimport matplotlib.pyplot as plt\nimport seaborn as sns",
   "execution_count": 1,
   "outputs": []
  },
  {
   "cell_type": "code",
   "metadata": {
    "cell_id": "00001-1af463fd-614f-45f3-9be6-dec766d991d7",
    "deepnote_cell_type": "code"
   },
   "source": "def assign(data, column, ran, values, show=True, con=False, cat=True):\n    if bool(con):\n        conditions=con\n    else:\n        conditions = []\n        ran = list(set(ran))\n        ran.sort(reverse=True)\n        for i in range(len(ran) - 1):\n            conditions.append(np.where(np.logical_and(data[column].value_counts() <= ran[i],\n                                                      data[column].value_counts() > ran[i+1]),\n                                       data[column].value_counts().index,\n                                       np.nan))\n    if show:\n        print(f'Number of condition(s): {len(conditions)}')\n    \n    for i, j in zip(conditions, values):\n        index = data[data[column].isin(i)].index\n        data.loc[index, column] = j\n        if show:\n            print(f'{len(index)} data in column {column} have been replaced by value {j}')\n    if show:\n        print(data[column].value_counts())\n    if cat:\n        data[column] = data[column].astype('category')\n    return",
   "execution_count": 2,
   "outputs": []
  },
  {
   "cell_type": "code",
   "metadata": {
    "cell_id": "00002-aebce71d-14c3-4935-8c44-f3720309fbff",
    "deepnote_cell_type": "code"
   },
   "source": "df = pd.read_excel('cctx_train.xlsx')\ndf.dropna(inplace=True)\ndf.drop(['Transaction_ID', 'Transaction_Flag', 'Bank_ID'], axis=1, inplace=True)\ndf.info()",
   "execution_count": 3,
   "outputs": [
    {
     "name": "stdout",
     "output_type": "stream",
     "text": "<class 'pandas.core.frame.DataFrame'>\nInt64Index: 10484 entries, 0 to 10499\nData columns (total 18 columns):\n #   Column                         Non-Null Count  Dtype         \n---  ------                         --------------  -----         \n 0   Transaction_Date               10484 non-null  datetime64[ns]\n 1   Transaction_Type               10484 non-null  object        \n 2   Transaction_Amount             10484 non-null  float64       \n 3   CC_ID                          10484 non-null  object        \n 4   Card_Type                      10484 non-null  object        \n 5   Card_Holder                    10484 non-null  int64         \n 6   Channel_ID                     10484 non-null  int64         \n 7   Merchant_ID                    10484 non-null  object        \n 8   Country_ID                     10484 non-null  object        \n 9   City_ID                        10484 non-null  object        \n 10  EDC_Type                       10484 non-null  object        \n 11  EDC_Location                   10484 non-null  object        \n 12  EDC_Owner                      10484 non-null  object        \n 13  Average_Transaction_Amount     10484 non-null  float64       \n 14  Maximum_Transaction_Amount     10484 non-null  float64       \n 15  Minimum_Transaction_Amount     10484 non-null  float64       \n 16  Average_Transaction_Frequency  10484 non-null  float64       \n 17  Fraud_Status                   10484 non-null  int64         \ndtypes: datetime64[ns](1), float64(5), int64(3), object(9)\nmemory usage: 1.5+ MB\n"
    }
   ]
  },
  {
   "cell_type": "code",
   "metadata": {
    "cell_id": "00003-e4c07f6f-4376-4359-b62e-b8681c7d7ab2",
    "deepnote_cell_type": "code"
   },
   "source": "df.head()",
   "execution_count": 4,
   "outputs": [
    {
     "data": {
      "text/html": "<div>\n<style scoped>\n    .dataframe tbody tr th:only-of-type {\n        vertical-align: middle;\n    }\n\n    .dataframe tbody tr th {\n        vertical-align: top;\n    }\n\n    .dataframe thead th {\n        text-align: right;\n    }\n</style>\n<table border=\"1\" class=\"dataframe\">\n  <thead>\n    <tr style=\"text-align: right;\">\n      <th></th>\n      <th>Transaction_Date</th>\n      <th>Transaction_Type</th>\n      <th>Transaction_Amount</th>\n      <th>CC_ID</th>\n      <th>Card_Type</th>\n      <th>Card_Holder</th>\n      <th>Channel_ID</th>\n      <th>Merchant_ID</th>\n      <th>Country_ID</th>\n      <th>City_ID</th>\n      <th>EDC_Type</th>\n      <th>EDC_Location</th>\n      <th>EDC_Owner</th>\n      <th>Average_Transaction_Amount</th>\n      <th>Maximum_Transaction_Amount</th>\n      <th>Minimum_Transaction_Amount</th>\n      <th>Average_Transaction_Frequency</th>\n      <th>Fraud_Status</th>\n    </tr>\n  </thead>\n  <tbody>\n    <tr>\n      <th>0</th>\n      <td>2018-01-01 01:48:50.951</td>\n      <td>T08</td>\n      <td>50000.0</td>\n      <td>CCID5563</td>\n      <td>CC11</td>\n      <td>2</td>\n      <td>1</td>\n      <td>M0001</td>\n      <td>CTY06</td>\n      <td>CTY06-133</td>\n      <td>EDC0885</td>\n      <td>LEDC3703</td>\n      <td>OEDC0377</td>\n      <td>661855.03</td>\n      <td>11000000.0</td>\n      <td>24212.0</td>\n      <td>2.91</td>\n      <td>0</td>\n    </tr>\n    <tr>\n      <th>1</th>\n      <td>2018-01-01 09:08:52.666</td>\n      <td>T01</td>\n      <td>1000000.0</td>\n      <td>CCID4598</td>\n      <td>CC08</td>\n      <td>2</td>\n      <td>1</td>\n      <td>M0001</td>\n      <td>CTY06</td>\n      <td>CTY06-129</td>\n      <td>EDC0565</td>\n      <td>LEDC3205</td>\n      <td>OEDC0377</td>\n      <td>2171907.10</td>\n      <td>28555000.0</td>\n      <td>100000.0</td>\n      <td>3.12</td>\n      <td>1</td>\n    </tr>\n    <tr>\n      <th>2</th>\n      <td>2018-01-01 09:08:52.666</td>\n      <td>T15</td>\n      <td>1000000.0</td>\n      <td>CCID2839</td>\n      <td>CC08</td>\n      <td>2</td>\n      <td>1</td>\n      <td>M0001</td>\n      <td>CTY06</td>\n      <td>CTY06-073</td>\n      <td>EDC4639</td>\n      <td>LEDC3081</td>\n      <td>OEDC0377</td>\n      <td>1714437.98</td>\n      <td>8500000.0</td>\n      <td>50.0</td>\n      <td>3.58</td>\n      <td>0</td>\n    </tr>\n    <tr>\n      <th>3</th>\n      <td>2018-01-01 09:45:55.969</td>\n      <td>T15</td>\n      <td>1000000.0</td>\n      <td>CCID2968</td>\n      <td>CC08</td>\n      <td>2</td>\n      <td>1</td>\n      <td>M0001</td>\n      <td>CTY06</td>\n      <td>CTY06-129</td>\n      <td>EDC3918</td>\n      <td>LEDC1993</td>\n      <td>OEDC0377</td>\n      <td>10163708.23</td>\n      <td>100000000.0</td>\n      <td>63000.0</td>\n      <td>2.57</td>\n      <td>0</td>\n    </tr>\n    <tr>\n      <th>4</th>\n      <td>2018-01-01 23:41:59.228</td>\n      <td>T10</td>\n      <td>2500000.0</td>\n      <td>CCID0176</td>\n      <td>CC12</td>\n      <td>2</td>\n      <td>1</td>\n      <td>M0001</td>\n      <td>CTY06</td>\n      <td>CTY06-133</td>\n      <td>EDC2863</td>\n      <td>LEDC2062</td>\n      <td>OEDC0377</td>\n      <td>690066.65</td>\n      <td>3523000.0</td>\n      <td>26500.0</td>\n      <td>4.23</td>\n      <td>0</td>\n    </tr>\n  </tbody>\n</table>\n</div>",
      "text/plain": "         Transaction_Date Transaction_Type  Transaction_Amount     CC_ID  \\\n0 2018-01-01 01:48:50.951              T08             50000.0  CCID5563   \n1 2018-01-01 09:08:52.666              T01           1000000.0  CCID4598   \n2 2018-01-01 09:08:52.666              T15           1000000.0  CCID2839   \n3 2018-01-01 09:45:55.969              T15           1000000.0  CCID2968   \n4 2018-01-01 23:41:59.228              T10           2500000.0  CCID0176   \n\n  Card_Type  Card_Holder  Channel_ID Merchant_ID Country_ID    City_ID  \\\n0      CC11            2           1       M0001      CTY06  CTY06-133   \n1      CC08            2           1       M0001      CTY06  CTY06-129   \n2      CC08            2           1       M0001      CTY06  CTY06-073   \n3      CC08            2           1       M0001      CTY06  CTY06-129   \n4      CC12            2           1       M0001      CTY06  CTY06-133   \n\n  EDC_Type EDC_Location EDC_Owner  Average_Transaction_Amount  \\\n0  EDC0885     LEDC3703  OEDC0377                   661855.03   \n1  EDC0565     LEDC3205  OEDC0377                  2171907.10   \n2  EDC4639     LEDC3081  OEDC0377                  1714437.98   \n3  EDC3918     LEDC1993  OEDC0377                 10163708.23   \n4  EDC2863     LEDC2062  OEDC0377                   690066.65   \n\n   Maximum_Transaction_Amount  Minimum_Transaction_Amount  \\\n0                  11000000.0                     24212.0   \n1                  28555000.0                    100000.0   \n2                   8500000.0                        50.0   \n3                 100000000.0                     63000.0   \n4                   3523000.0                     26500.0   \n\n   Average_Transaction_Frequency  Fraud_Status  \n0                           2.91             0  \n1                           3.12             1  \n2                           3.58             0  \n3                           2.57             0  \n4                           4.23             0  "
     },
     "execution_count": 4,
     "metadata": {},
     "output_type": "execute_result"
    }
   ]
  },
  {
   "cell_type": "code",
   "metadata": {
    "cell_id": "00004-71e2da53-b441-4c53-8cd3-598cd89620ea",
    "deepnote_cell_type": "code"
   },
   "source": "df['City_ID'].value_counts()",
   "execution_count": 5,
   "outputs": [
    {
     "data": {
      "text/plain": "CTY06-023    4247\nCTY06-133    1276\nCTY06-181     800\nCTY06-171     440\nCTY06-186     337\n             ... \nCTY06-106       1\nCTY09-002       1\nCTY06-161       1\nCTY06-078       1\nCTY06-019       1\nName: City_ID, Length: 227, dtype: int64"
     },
     "execution_count": 5,
     "metadata": {},
     "output_type": "execute_result"
    }
   ]
  },
  {
   "cell_type": "code",
   "metadata": {
    "scrolled": false,
    "cell_id": "00005-95f7b4f0-7a50-4fcd-bcbc-bc8546a8c863",
    "deepnote_cell_type": "code"
   },
   "source": "df['City_ID'].unique()",
   "execution_count": 6,
   "outputs": [
    {
     "data": {
      "text/plain": "array(['CTY06-133', 'CTY06-129', 'CTY06-073', 'CTY06-023', 'CTY06-181',\n       'CTY06-083', 'CTY06-173', 'CTY06-149', 'CTY06-004', 'CTY06-194',\n       'CTY06-171', 'CTY06-096', 'CTY06-035', 'CTY06-186', 'CTY06-174',\n       'CTY06-092', 'CTY06-029', 'CTY06-128', 'CTY06-101', 'CTY06-087',\n       'CTY06-046', 'CTY06-197', 'CTY06-125', 'CTY06-056', 'CTY06-089',\n       'CTY06-058', 'CTY06-099', 'CTY06-005', 'CTY06-180', 'CTY06-112',\n       'CTY06-151', 'CTY06-176', 'CTY13-003', 'CTY06-049', 'CTY06-175',\n       'CTY06-071', 'CTY06-140', 'CTY06-121', 'CTY06-090', 'CTY06-115',\n       'CTY06-110', 'CTY06-195', 'CTY06-120', 'CTY06-164', 'CTY06-205',\n       'CTY06-179', 'CTY06-126', 'CTY06-152', 'CTY06-039', 'CTY06-075',\n       'CTY06-077', 'CTY06-166', 'CTY06-113', 'CTY06-148', 'CTY06-190',\n       'CTY06-082', 'CTY06-067', 'CTY06-137', 'CTY06-147', 'CTY06-167',\n       'CTY06-001', 'CTY06-097', 'CTY06-072', 'CTY06-086', 'CTY06-191',\n       'CTY06-124', 'CTY06-189', 'CTY06-013', 'CTY06-185', 'CTY06-040',\n       'CTY06-202', 'CTY06-018', 'CTY01-002', 'CTY06-095', 'CTY06-076',\n       'CTY06-010', 'CTY08-002', 'CTY09-002', 'CTY06-145', 'CTY06-021',\n       'CTY06-098', 'CTY06-169', 'CTY06-168', 'CTY06-078', 'CTY06-200',\n       'CTY06-031', 'CTY06-183', 'CTY06-119', 'CTY06-108', 'CTY02-001',\n       'CTY06-109', 'CTY06-044', 'CTY06-036', 'CTY06-033', 'CTY06-193',\n       'CTY06-038', 'CTY06-017', 'CTY06-105', 'CTY06-027', 'CTY06-048',\n       'CTY06-198', 'CTY05-001', 'CTY06-037', 'CTY06-142', 'CTY06-060',\n       'CTY10-002', 'CTY06-102', 'CTY06-064', 'CTY06-131', 'CTY06-015',\n       'CTY06-116', 'CTY06-068', 'CTY06-074', 'CTY06-020', 'CTY06-030',\n       'CTY06-012', 'CTY05-004', 'CTY06-028', 'CTY06-069', 'CTY06-002',\n       'CTY06-111', 'CTY06-163', 'CTY06-199', 'CTY06-065', 'CTY06-094',\n       'CTY06-080', 'CTY06-159', 'CTY06-204', 'CTY06-085', 'CTY06-162',\n       'CTY06-170', 'CTY06-006', 'CTY06-093', 'CTY06-123', 'CTY06-022',\n       'CTY06-057', 'CTY06-059', 'CTY06-007', 'CTY08-007', 'CTY06-134',\n       'CTY06-158', 'CTY06-187', 'CTY06-100', 'CTY06-155', 'CTY06-107',\n       'CTY06-139', 'CTY06-154', 'CTY08-006', 'CTY06-063', 'CTY06-127',\n       'CTY06-104', 'CTY06-177', 'CTY05-007', 'CTY06-117', 'CTY12-002',\n       'CTY06-146', 'CTY08-008', 'CTY08-001', 'CTY08-003', 'CTY06-172',\n       'CTY06-135', 'CTY06-203', 'CTY06-161', 'CTY06-025', 'CTY06-034',\n       'CTY06-106', 'CTY06-042', 'CTY06-143', 'CTY06-141', 'CTY06-138',\n       'CTY06-192', 'CTY06-114', 'CTY06-079', 'CTY07-002', 'CTY10-001',\n       'CTY06-014', 'CTY06-184', 'CTY06-019', 'CTY06-054', 'CTY06-050',\n       'CTY06-011', 'CTY06-103', 'CTY06-062', 'CTY06-061', 'CTY12-001',\n       'CTY06-041', 'CTY06-188', 'CTY06-157', 'CTY06-088', 'CTY04-001',\n       'CTY08-005', 'CTY07-003', 'CTY06-132', 'CTY06-008', 'CTY05-002',\n       'CTY06-051', 'CTY06-153', 'CTY06-026', 'CTY13-002', 'CTY06-053',\n       'CTY06-091', 'CTY01-001', 'CTY13-001', 'CTY06-165', 'CTY06-043',\n       'CTY06-160', 'CTY08-004', 'CTY06-009', 'CTY06-144', 'CTY06-136',\n       'CTY01-003', 'CTY06-182', 'CTY05-005', 'CTY06-024', 'CTY06-084',\n       'CTY05-003', 'CTY06-130', 'CTY06-122', 'CTY06-150', 'CTY06-178',\n       'CTY06-201', 'CTY09-001', 'CTY06-118', 'CTY07-001', 'CTY06-047',\n       'CTY06-052', 'CTY06-003'], dtype=object)"
     },
     "execution_count": 6,
     "metadata": {},
     "output_type": "execute_result"
    }
   ]
  },
  {
   "cell_type": "code",
   "metadata": {
    "cell_id": "00006-595b5f0d-4946-4f4a-9615-459bc171ecb0",
    "deepnote_cell_type": "code"
   },
   "source": "df['City_ID'].str.contains(pat='CTY06').value_counts()",
   "execution_count": 7,
   "outputs": [
    {
     "data": {
      "text/plain": "True     10448\nFalse       36\nName: City_ID, dtype: int64"
     },
     "execution_count": 7,
     "metadata": {},
     "output_type": "execute_result"
    }
   ]
  },
  {
   "cell_type": "code",
   "metadata": {
    "cell_id": "00007-a5796e56-3e1b-4a6e-bf75-49b5e07c194a",
    "deepnote_cell_type": "code"
   },
   "source": "df['Country_ID'].str.contains(pat='CTY06').value_counts()",
   "execution_count": 8,
   "outputs": [
    {
     "data": {
      "text/plain": "True     10448\nFalse       36\nName: Country_ID, dtype: int64"
     },
     "execution_count": 8,
     "metadata": {},
     "output_type": "execute_result"
    }
   ]
  },
  {
   "cell_type": "code",
   "metadata": {
    "cell_id": "00008-1b5d59a0-aba6-4f62-8881-519e56d24db9",
    "deepnote_cell_type": "code"
   },
   "source": "(df['City_ID'].str.contains(pat='CTY06') == \n df['Country_ID'].str.contains(pat='CTY06')).value_counts()",
   "execution_count": 9,
   "outputs": [
    {
     "data": {
      "text/plain": "True    10484\ndtype: int64"
     },
     "execution_count": 9,
     "metadata": {},
     "output_type": "execute_result"
    }
   ]
  },
  {
   "cell_type": "code",
   "metadata": {
    "cell_id": "00009-d86cc53b-3d29-42a2-ba97-63aa5f7f829f",
    "deepnote_cell_type": "code"
   },
   "source": "col = 'Country_ID'\nran = [0, 100, 20_000]\nval = ['Indonesia', 'Asing']\nassign(df, col, ran, val)",
   "execution_count": 10,
   "outputs": [
    {
     "name": "stdout",
     "output_type": "stream",
     "text": "Number of condition(s): 2\n10448 data in column Country_ID have been replaced by value Indonesia\n36 data in column Country_ID have been replaced by value Asing\nIndonesia    10448\nAsing           36\nName: Country_ID, dtype: int64\n"
    }
   ]
  },
  {
   "cell_type": "code",
   "metadata": {
    "cell_id": "00010-3497ed44-1cf0-4c5a-81c2-c4519be4d97e",
    "deepnote_cell_type": "code"
   },
   "source": "df['EDC_Type'].value_counts()",
   "execution_count": 11,
   "outputs": [
    {
     "data": {
      "text/plain": "EDC0002    705\nEDC1846     25\nEDC0729     17\nEDC1155     17\nEDC0798     16\n          ... \nEDC2558      1\nEDC4631      1\nEDC4342      1\nEDC4846      1\nEDC4477      1\nName: EDC_Type, Length: 4787, dtype: int64"
     },
     "execution_count": 11,
     "metadata": {},
     "output_type": "execute_result"
    }
   ]
  },
  {
   "cell_type": "code",
   "metadata": {
    "cell_id": "00011-469f17ee-0046-4f10-a04a-b38ae721a864",
    "deepnote_cell_type": "code"
   },
   "source": "col = 'EDC_Type'\nran = [0, 10, 100, 1_000]\nval = ['Bank', 'Mobile', 'GPRS']\nassign(df, col, ran, val)",
   "execution_count": 12,
   "outputs": [
    {
     "name": "stdout",
     "output_type": "stream",
     "text": "Number of condition(s): 3\n705 data in column EDC_Type have been replaced by value Bank\n365 data in column EDC_Type have been replaced by value Mobile\n9414 data in column EDC_Type have been replaced by value GPRS\nGPRS      9414\nBank       705\nMobile     365\nName: EDC_Type, dtype: int64\n"
    }
   ]
  },
  {
   "cell_type": "code",
   "metadata": {
    "cell_id": "00012-60ac8b4d-6fc9-4e45-8cb5-33482666305a",
    "deepnote_cell_type": "code"
   },
   "source": "df['EDC_Owner'].value_counts()",
   "execution_count": 13,
   "outputs": [
    {
     "data": {
      "text/plain": "OEDC0377    8312\nOEDC0378      15\nOEDC0212       6\nOEDC1363       6\nOEDC0886       6\n            ... \nOEDC0530       1\nOEDC0721       1\nOEDC1412       1\nOEDC1497       1\nOEDC1557       1\nName: EDC_Owner, Length: 1460, dtype: int64"
     },
     "execution_count": 13,
     "metadata": {},
     "output_type": "execute_result"
    }
   ]
  },
  {
   "cell_type": "code",
   "metadata": {
    "cell_id": "00013-c89bd915-d9cc-48cf-a832-41525bb1bac8",
    "deepnote_cell_type": "code"
   },
   "source": "col = 'EDC_Owner'\nran = [0, 100, 10_000]\nval = ['Pemilik', 'Sewa']\nassign(df, col, ran, val)",
   "execution_count": 14,
   "outputs": [
    {
     "name": "stdout",
     "output_type": "stream",
     "text": "Number of condition(s): 2\n8312 data in column EDC_Owner have been replaced by value Pemilik\n2172 data in column EDC_Owner have been replaced by value Sewa\nPemilik    8312\nSewa       2172\nName: EDC_Owner, dtype: int64\n"
    }
   ]
  },
  {
   "cell_type": "code",
   "metadata": {
    "cell_id": "00014-d294741e-2050-4e5b-b757-358d3f0d6075",
    "deepnote_cell_type": "code"
   },
   "source": "df['Transaction_Type'].value_counts()",
   "execution_count": 15,
   "outputs": [
    {
     "data": {
      "text/plain": "T01    2866\nT15    2447\nT02    1323\nT08    1072\nT13     768\nT06     675\nT14     509\nT04     263\nT03     206\nT10     112\nT12      77\nT11      50\nT20      29\nT17      27\nT05      22\nT16      12\nT09       8\nT19       7\nT07       7\nT18       4\nName: Transaction_Type, dtype: int64"
     },
     "execution_count": 15,
     "metadata": {},
     "output_type": "execute_result"
    }
   ]
  },
  {
   "cell_type": "code",
   "metadata": {
    "cell_id": "00015-a789deda-c49a-479d-a587-55ec0d1b1596",
    "deepnote_cell_type": "code"
   },
   "source": "col = 'Transaction_Type'\nran = [0, 100, 1_000, 10_000]\nval = ['Sering', 'Umum', 'Jarang']\nassign(df, col, ran, val)",
   "execution_count": 16,
   "outputs": [
    {
     "name": "stdout",
     "output_type": "stream",
     "text": "Number of condition(s): 3\n7708 data in column Transaction_Type have been replaced by value Sering\n2533 data in column Transaction_Type have been replaced by value Umum\n243 data in column Transaction_Type have been replaced by value Jarang\nSering    7708\nUmum      2533\nJarang     243\nName: Transaction_Type, dtype: int64\n"
    }
   ]
  },
  {
   "cell_type": "code",
   "metadata": {
    "cell_id": "00016-a12c976b-7008-4c96-9aa4-2103e3cdc789",
    "deepnote_cell_type": "code"
   },
   "source": "df['Card_Type'].value_counts()",
   "execution_count": 17,
   "outputs": [
    {
     "data": {
      "text/plain": "CC11    3835\nCC08    2106\nCC09    1379\nCC00    1260\nCC10    1092\nCC04     237\nCC02     157\nCC01     155\nCC05     145\nCC12      54\nCC13      36\nCC03      20\nCC06       7\nCC07       1\nName: Card_Type, dtype: int64"
     },
     "execution_count": 17,
     "metadata": {},
     "output_type": "execute_result"
    }
   ]
  },
  {
   "cell_type": "code",
   "metadata": {
    "cell_id": "00017-ef8515e5-d0d6-4105-aed1-e0f92af92819",
    "deepnote_cell_type": "code"
   },
   "source": "cc = df.groupby(['Card_Type']).agg({'Maximum_Transaction_Amount': ['count', 'std', 'min', 'max']}).sort_values(('Maximum_Transaction_Amount', 'max'), ascending=False)\ncc",
   "execution_count": 18,
   "outputs": [
    {
     "data": {
      "text/html": "<div>\n<style scoped>\n    .dataframe tbody tr th:only-of-type {\n        vertical-align: middle;\n    }\n\n    .dataframe tbody tr th {\n        vertical-align: top;\n    }\n\n    .dataframe thead tr th {\n        text-align: left;\n    }\n\n    .dataframe thead tr:last-of-type th {\n        text-align: right;\n    }\n</style>\n<table border=\"1\" class=\"dataframe\">\n  <thead>\n    <tr>\n      <th></th>\n      <th colspan=\"4\" halign=\"left\">Maximum_Transaction_Amount</th>\n    </tr>\n    <tr>\n      <th></th>\n      <th>count</th>\n      <th>std</th>\n      <th>min</th>\n      <th>max</th>\n    </tr>\n    <tr>\n      <th>Card_Type</th>\n      <th></th>\n      <th></th>\n      <th></th>\n      <th></th>\n    </tr>\n  </thead>\n  <tbody>\n    <tr>\n      <th>CC02</th>\n      <td>157</td>\n      <td>2.455402e+07</td>\n      <td>1000000.0</td>\n      <td>100000000.0</td>\n    </tr>\n    <tr>\n      <th>CC05</th>\n      <td>145</td>\n      <td>1.118061e+07</td>\n      <td>500000.0</td>\n      <td>100000000.0</td>\n    </tr>\n    <tr>\n      <th>CC08</th>\n      <td>2106</td>\n      <td>2.571725e+07</td>\n      <td>700000.0</td>\n      <td>100000000.0</td>\n    </tr>\n    <tr>\n      <th>CC04</th>\n      <td>237</td>\n      <td>1.302443e+07</td>\n      <td>500000.0</td>\n      <td>75000000.0</td>\n    </tr>\n    <tr>\n      <th>CC10</th>\n      <td>1092</td>\n      <td>6.384819e+06</td>\n      <td>100000.0</td>\n      <td>69750000.0</td>\n    </tr>\n    <tr>\n      <th>CC11</th>\n      <td>3835</td>\n      <td>9.627690e+06</td>\n      <td>243000.0</td>\n      <td>69750000.0</td>\n    </tr>\n    <tr>\n      <th>CC00</th>\n      <td>1260</td>\n      <td>9.274332e+06</td>\n      <td>300000.0</td>\n      <td>58090000.0</td>\n    </tr>\n    <tr>\n      <th>CC09</th>\n      <td>1379</td>\n      <td>5.554187e+06</td>\n      <td>38000.0</td>\n      <td>56161050.0</td>\n    </tr>\n    <tr>\n      <th>CC01</th>\n      <td>155</td>\n      <td>8.910502e+06</td>\n      <td>500000.0</td>\n      <td>50000000.0</td>\n    </tr>\n    <tr>\n      <th>CC03</th>\n      <td>20</td>\n      <td>1.601625e+07</td>\n      <td>500000.0</td>\n      <td>50000000.0</td>\n    </tr>\n    <tr>\n      <th>CC06</th>\n      <td>7</td>\n      <td>1.881146e+07</td>\n      <td>1500000.0</td>\n      <td>50000000.0</td>\n    </tr>\n    <tr>\n      <th>CC13</th>\n      <td>36</td>\n      <td>9.231345e+06</td>\n      <td>100000.0</td>\n      <td>50000000.0</td>\n    </tr>\n    <tr>\n      <th>CC12</th>\n      <td>54</td>\n      <td>8.975019e+06</td>\n      <td>750000.0</td>\n      <td>46000000.0</td>\n    </tr>\n    <tr>\n      <th>CC07</th>\n      <td>1</td>\n      <td>NaN</td>\n      <td>12500000.0</td>\n      <td>12500000.0</td>\n    </tr>\n  </tbody>\n</table>\n</div>",
      "text/plain": "          Maximum_Transaction_Amount                                       \n                               count           std         min          max\nCard_Type                                                                  \nCC02                             157  2.455402e+07   1000000.0  100000000.0\nCC05                             145  1.118061e+07    500000.0  100000000.0\nCC08                            2106  2.571725e+07    700000.0  100000000.0\nCC04                             237  1.302443e+07    500000.0   75000000.0\nCC10                            1092  6.384819e+06    100000.0   69750000.0\nCC11                            3835  9.627690e+06    243000.0   69750000.0\nCC00                            1260  9.274332e+06    300000.0   58090000.0\nCC09                            1379  5.554187e+06     38000.0   56161050.0\nCC01                             155  8.910502e+06    500000.0   50000000.0\nCC03                              20  1.601625e+07    500000.0   50000000.0\nCC06                               7  1.881146e+07   1500000.0   50000000.0\nCC13                              36  9.231345e+06    100000.0   50000000.0\nCC12                              54  8.975019e+06    750000.0   46000000.0\nCC07                               1           NaN  12500000.0   12500000.0"
     },
     "execution_count": 18,
     "metadata": {},
     "output_type": "execute_result"
    }
   ]
  },
  {
   "cell_type": "code",
   "metadata": {
    "cell_id": "00018-3fa7e2bf-88d4-4d8f-acf5-fdfb6c565a30",
    "deepnote_cell_type": "code"
   },
   "source": "con = [cc[ :3].index,\n       cc[3:8].index,\n       cc[8: ].index]\ncon",
   "execution_count": 19,
   "outputs": [
    {
     "data": {
      "text/plain": "[Index(['CC02', 'CC05', 'CC08'], dtype='object', name='Card_Type'),\n Index(['CC04', 'CC10', 'CC11', 'CC00', 'CC09'], dtype='object', name='Card_Type'),\n Index(['CC01', 'CC03', 'CC06', 'CC13', 'CC12', 'CC07'], dtype='object', name='Card_Type')]"
     },
     "execution_count": 19,
     "metadata": {},
     "output_type": "execute_result"
    }
   ]
  },
  {
   "cell_type": "code",
   "metadata": {
    "cell_id": "00019-dcfc8820-cc2c-440d-b4b2-6e39504534ab",
    "deepnote_cell_type": "code"
   },
   "source": "col = 'Card_Type'\nran = False\nval = ['Platinum', 'Gold', 'Silver']\nassign(df, col, ran, val, con=con)",
   "execution_count": 20,
   "outputs": [
    {
     "name": "stdout",
     "output_type": "stream",
     "text": "Number of condition(s): 3\n2408 data in column Card_Type have been replaced by value Platinum\n7803 data in column Card_Type have been replaced by value Gold\n273 data in column Card_Type have been replaced by value Silver\nGold        7803\nPlatinum    2408\nSilver       273\nName: Card_Type, dtype: int64\n"
    }
   ]
  },
  {
   "cell_type": "code",
   "metadata": {
    "cell_id": "00020-3902d398-3ce2-46f2-9526-b747a9dc6a50",
    "deepnote_cell_type": "code"
   },
   "source": "df['Channel_ID'].value_counts()",
   "execution_count": 21,
   "outputs": [
    {
     "data": {
      "text/plain": "1    8312\n2    1462\n5     680\n3      25\n4       5\nName: Channel_ID, dtype: int64"
     },
     "execution_count": 21,
     "metadata": {},
     "output_type": "execute_result"
    }
   ]
  },
  {
   "cell_type": "code",
   "metadata": {
    "cell_id": "00021-6dabfe30-eb35-41a9-a1f1-106c3b6f792a",
    "deepnote_cell_type": "code"
   },
   "source": "col = 'Channel_ID'\nran = [0, 8_000, 10_000]\nval = ['Primer', 'Sekunder']\nassign(df, col, ran, val)",
   "execution_count": 22,
   "outputs": [
    {
     "name": "stdout",
     "output_type": "stream",
     "text": "Number of condition(s): 2\n8312 data in column Channel_ID have been replaced by value Primer\n2172 data in column Channel_ID have been replaced by value Sekunder\nPrimer      8312\nSekunder    2172\nName: Channel_ID, dtype: int64\n"
    }
   ]
  },
  {
   "cell_type": "code",
   "metadata": {
    "scrolled": true,
    "cell_id": "00022-1bc19e94-72c2-44d6-b428-3f98c72375df",
    "deepnote_cell_type": "code"
   },
   "source": "df['Merchant_ID'].value_counts()",
   "execution_count": 23,
   "outputs": [
    {
     "data": {
      "text/plain": "M0001    9022\nM0243       6\nM0063       6\nM0140       6\nM0100       6\n         ... \nM0873       1\nM0697       1\nM0848       1\nM1071       1\nM0597       1\nName: Merchant_ID, Length: 974, dtype: int64"
     },
     "execution_count": 23,
     "metadata": {},
     "output_type": "execute_result"
    }
   ]
  },
  {
   "cell_type": "code",
   "metadata": {
    "cell_id": "00023-1b63a464-e616-4fc0-853f-09933973743d",
    "deepnote_cell_type": "code"
   },
   "source": "col = 'Merchant_ID'\nran = [0, 9_000, 10_000]\nval = ['Primer', 'Sekunder']\nassign(df, col, ran, val)",
   "execution_count": 24,
   "outputs": [
    {
     "name": "stdout",
     "output_type": "stream",
     "text": "Number of condition(s): 2\n9022 data in column Merchant_ID have been replaced by value Primer\n1462 data in column Merchant_ID have been replaced by value Sekunder\nPrimer      9022\nSekunder    1462\nName: Merchant_ID, dtype: int64\n"
    }
   ]
  },
  {
   "cell_type": "code",
   "metadata": {
    "cell_id": "00024-2b9818ab-217f-4b1e-996e-167f1bc248a7",
    "deepnote_cell_type": "code"
   },
   "source": "df['Card_Holder'].value_counts()",
   "execution_count": 25,
   "outputs": [
    {
     "data": {
      "text/plain": "2    9774\n1     710\nName: Card_Holder, dtype: int64"
     },
     "execution_count": 25,
     "metadata": {},
     "output_type": "execute_result"
    }
   ]
  },
  {
   "cell_type": "code",
   "metadata": {
    "cell_id": "00025-abf6c301-1afa-42be-a686-8055e0db971f",
    "deepnote_cell_type": "code"
   },
   "source": "df.loc[df[df['Card_Holder'] == 2].index, 'Card_Holder'] = 'Primer'\ndf.loc[df[df['Card_Holder'] == 1].index, 'Card_Holder'] = 'Sekunder'\ndf['Card_Holder'] = df['Card_Holder'].astype('category')\ndf.info(memory_usage='deep')",
   "execution_count": 26,
   "outputs": [
    {
     "name": "stdout",
     "output_type": "stream",
     "text": "<class 'pandas.core.frame.DataFrame'>\nInt64Index: 10484 entries, 0 to 10499\nData columns (total 18 columns):\n #   Column                         Non-Null Count  Dtype         \n---  ------                         --------------  -----         \n 0   Transaction_Date               10484 non-null  datetime64[ns]\n 1   Transaction_Type               10484 non-null  category      \n 2   Transaction_Amount             10484 non-null  float64       \n 3   CC_ID                          10484 non-null  object        \n 4   Card_Type                      10484 non-null  category      \n 5   Card_Holder                    10484 non-null  category      \n 6   Channel_ID                     10484 non-null  category      \n 7   Merchant_ID                    10484 non-null  category      \n 8   Country_ID                     10484 non-null  category      \n 9   City_ID                        10484 non-null  object        \n 10  EDC_Type                       10484 non-null  category      \n 11  EDC_Location                   10484 non-null  object        \n 12  EDC_Owner                      10484 non-null  category      \n 13  Average_Transaction_Amount     10484 non-null  float64       \n 14  Maximum_Transaction_Amount     10484 non-null  float64       \n 15  Minimum_Transaction_Amount     10484 non-null  float64       \n 16  Average_Transaction_Frequency  10484 non-null  float64       \n 17  Fraud_Status                   10484 non-null  int64         \ndtypes: category(8), datetime64[ns](1), float64(5), int64(1), object(3)\nmemory usage: 2.9 MB\n"
    }
   ]
  },
  {
   "cell_type": "code",
   "metadata": {
    "cell_id": "00026-f8801516-bef2-414f-8304-28c79a13804b",
    "deepnote_cell_type": "code"
   },
   "source": "df.head()",
   "execution_count": 27,
   "outputs": [
    {
     "data": {
      "text/html": "<div>\n<style scoped>\n    .dataframe tbody tr th:only-of-type {\n        vertical-align: middle;\n    }\n\n    .dataframe tbody tr th {\n        vertical-align: top;\n    }\n\n    .dataframe thead th {\n        text-align: right;\n    }\n</style>\n<table border=\"1\" class=\"dataframe\">\n  <thead>\n    <tr style=\"text-align: right;\">\n      <th></th>\n      <th>Transaction_Date</th>\n      <th>Transaction_Type</th>\n      <th>Transaction_Amount</th>\n      <th>CC_ID</th>\n      <th>Card_Type</th>\n      <th>Card_Holder</th>\n      <th>Channel_ID</th>\n      <th>Merchant_ID</th>\n      <th>Country_ID</th>\n      <th>City_ID</th>\n      <th>EDC_Type</th>\n      <th>EDC_Location</th>\n      <th>EDC_Owner</th>\n      <th>Average_Transaction_Amount</th>\n      <th>Maximum_Transaction_Amount</th>\n      <th>Minimum_Transaction_Amount</th>\n      <th>Average_Transaction_Frequency</th>\n      <th>Fraud_Status</th>\n    </tr>\n  </thead>\n  <tbody>\n    <tr>\n      <th>0</th>\n      <td>2018-01-01 01:48:50.951</td>\n      <td>Sering</td>\n      <td>50000.0</td>\n      <td>CCID5563</td>\n      <td>Gold</td>\n      <td>Primer</td>\n      <td>Primer</td>\n      <td>Primer</td>\n      <td>Indonesia</td>\n      <td>CTY06-133</td>\n      <td>GPRS</td>\n      <td>LEDC3703</td>\n      <td>Pemilik</td>\n      <td>661855.03</td>\n      <td>11000000.0</td>\n      <td>24212.0</td>\n      <td>2.91</td>\n      <td>0</td>\n    </tr>\n    <tr>\n      <th>1</th>\n      <td>2018-01-01 09:08:52.666</td>\n      <td>Sering</td>\n      <td>1000000.0</td>\n      <td>CCID4598</td>\n      <td>Platinum</td>\n      <td>Primer</td>\n      <td>Primer</td>\n      <td>Primer</td>\n      <td>Indonesia</td>\n      <td>CTY06-129</td>\n      <td>GPRS</td>\n      <td>LEDC3205</td>\n      <td>Pemilik</td>\n      <td>2171907.10</td>\n      <td>28555000.0</td>\n      <td>100000.0</td>\n      <td>3.12</td>\n      <td>1</td>\n    </tr>\n    <tr>\n      <th>2</th>\n      <td>2018-01-01 09:08:52.666</td>\n      <td>Sering</td>\n      <td>1000000.0</td>\n      <td>CCID2839</td>\n      <td>Platinum</td>\n      <td>Primer</td>\n      <td>Primer</td>\n      <td>Primer</td>\n      <td>Indonesia</td>\n      <td>CTY06-073</td>\n      <td>GPRS</td>\n      <td>LEDC3081</td>\n      <td>Pemilik</td>\n      <td>1714437.98</td>\n      <td>8500000.0</td>\n      <td>50.0</td>\n      <td>3.58</td>\n      <td>0</td>\n    </tr>\n    <tr>\n      <th>3</th>\n      <td>2018-01-01 09:45:55.969</td>\n      <td>Sering</td>\n      <td>1000000.0</td>\n      <td>CCID2968</td>\n      <td>Platinum</td>\n      <td>Primer</td>\n      <td>Primer</td>\n      <td>Primer</td>\n      <td>Indonesia</td>\n      <td>CTY06-129</td>\n      <td>GPRS</td>\n      <td>LEDC1993</td>\n      <td>Pemilik</td>\n      <td>10163708.23</td>\n      <td>100000000.0</td>\n      <td>63000.0</td>\n      <td>2.57</td>\n      <td>0</td>\n    </tr>\n    <tr>\n      <th>4</th>\n      <td>2018-01-01 23:41:59.228</td>\n      <td>Umum</td>\n      <td>2500000.0</td>\n      <td>CCID0176</td>\n      <td>Silver</td>\n      <td>Primer</td>\n      <td>Primer</td>\n      <td>Primer</td>\n      <td>Indonesia</td>\n      <td>CTY06-133</td>\n      <td>GPRS</td>\n      <td>LEDC2062</td>\n      <td>Pemilik</td>\n      <td>690066.65</td>\n      <td>3523000.0</td>\n      <td>26500.0</td>\n      <td>4.23</td>\n      <td>0</td>\n    </tr>\n  </tbody>\n</table>\n</div>",
      "text/plain": "         Transaction_Date Transaction_Type  Transaction_Amount     CC_ID  \\\n0 2018-01-01 01:48:50.951           Sering             50000.0  CCID5563   \n1 2018-01-01 09:08:52.666           Sering           1000000.0  CCID4598   \n2 2018-01-01 09:08:52.666           Sering           1000000.0  CCID2839   \n3 2018-01-01 09:45:55.969           Sering           1000000.0  CCID2968   \n4 2018-01-01 23:41:59.228             Umum           2500000.0  CCID0176   \n\n  Card_Type Card_Holder Channel_ID Merchant_ID Country_ID    City_ID EDC_Type  \\\n0      Gold      Primer     Primer      Primer  Indonesia  CTY06-133     GPRS   \n1  Platinum      Primer     Primer      Primer  Indonesia  CTY06-129     GPRS   \n2  Platinum      Primer     Primer      Primer  Indonesia  CTY06-073     GPRS   \n3  Platinum      Primer     Primer      Primer  Indonesia  CTY06-129     GPRS   \n4    Silver      Primer     Primer      Primer  Indonesia  CTY06-133     GPRS   \n\n  EDC_Location EDC_Owner  Average_Transaction_Amount  \\\n0     LEDC3703   Pemilik                   661855.03   \n1     LEDC3205   Pemilik                  2171907.10   \n2     LEDC3081   Pemilik                  1714437.98   \n3     LEDC1993   Pemilik                 10163708.23   \n4     LEDC2062   Pemilik                   690066.65   \n\n   Maximum_Transaction_Amount  Minimum_Transaction_Amount  \\\n0                  11000000.0                     24212.0   \n1                  28555000.0                    100000.0   \n2                   8500000.0                        50.0   \n3                 100000000.0                     63000.0   \n4                   3523000.0                     26500.0   \n\n   Average_Transaction_Frequency  Fraud_Status  \n0                           2.91             0  \n1                           3.12             1  \n2                           3.58             0  \n3                           2.57             0  \n4                           4.23             0  "
     },
     "execution_count": 27,
     "metadata": {},
     "output_type": "execute_result"
    }
   ]
  },
  {
   "cell_type": "code",
   "metadata": {
    "cell_id": "00027-25928726-18e2-4656-b529-25582df60e0e",
    "deepnote_cell_type": "code"
   },
   "source": "pd.get_dummies(df.drop(['Transaction_Date', 'CC_ID', 'City_ID', 'EDC_Location'], axis=1))",
   "execution_count": 28,
   "outputs": [
    {
     "data": {
      "text/html": "<div>\n<style scoped>\n    .dataframe tbody tr th:only-of-type {\n        vertical-align: middle;\n    }\n\n    .dataframe tbody tr th {\n        vertical-align: top;\n    }\n\n    .dataframe thead th {\n        text-align: right;\n    }\n</style>\n<table border=\"1\" class=\"dataframe\">\n  <thead>\n    <tr style=\"text-align: right;\">\n      <th></th>\n      <th>Transaction_Amount</th>\n      <th>Average_Transaction_Amount</th>\n      <th>Maximum_Transaction_Amount</th>\n      <th>Minimum_Transaction_Amount</th>\n      <th>Average_Transaction_Frequency</th>\n      <th>Fraud_Status</th>\n      <th>Transaction_Type_Jarang</th>\n      <th>Transaction_Type_Sering</th>\n      <th>Transaction_Type_Umum</th>\n      <th>Card_Type_Gold</th>\n      <th>...</th>\n      <th>Channel_ID_Sekunder</th>\n      <th>Merchant_ID_Primer</th>\n      <th>Merchant_ID_Sekunder</th>\n      <th>Country_ID_Asing</th>\n      <th>Country_ID_Indonesia</th>\n      <th>EDC_Type_Bank</th>\n      <th>EDC_Type_GPRS</th>\n      <th>EDC_Type_Mobile</th>\n      <th>EDC_Owner_Pemilik</th>\n      <th>EDC_Owner_Sewa</th>\n    </tr>\n  </thead>\n  <tbody>\n    <tr>\n      <th>0</th>\n      <td>50000.0</td>\n      <td>661855.03</td>\n      <td>11000000.0</td>\n      <td>24212.0</td>\n      <td>2.91</td>\n      <td>0</td>\n      <td>0</td>\n      <td>1</td>\n      <td>0</td>\n      <td>1</td>\n      <td>...</td>\n      <td>0</td>\n      <td>1</td>\n      <td>0</td>\n      <td>0</td>\n      <td>1</td>\n      <td>0</td>\n      <td>1</td>\n      <td>0</td>\n      <td>1</td>\n      <td>0</td>\n    </tr>\n    <tr>\n      <th>1</th>\n      <td>1000000.0</td>\n      <td>2171907.10</td>\n      <td>28555000.0</td>\n      <td>100000.0</td>\n      <td>3.12</td>\n      <td>1</td>\n      <td>0</td>\n      <td>1</td>\n      <td>0</td>\n      <td>0</td>\n      <td>...</td>\n      <td>0</td>\n      <td>1</td>\n      <td>0</td>\n      <td>0</td>\n      <td>1</td>\n      <td>0</td>\n      <td>1</td>\n      <td>0</td>\n      <td>1</td>\n      <td>0</td>\n    </tr>\n    <tr>\n      <th>2</th>\n      <td>1000000.0</td>\n      <td>1714437.98</td>\n      <td>8500000.0</td>\n      <td>50.0</td>\n      <td>3.58</td>\n      <td>0</td>\n      <td>0</td>\n      <td>1</td>\n      <td>0</td>\n      <td>0</td>\n      <td>...</td>\n      <td>0</td>\n      <td>1</td>\n      <td>0</td>\n      <td>0</td>\n      <td>1</td>\n      <td>0</td>\n      <td>1</td>\n      <td>0</td>\n      <td>1</td>\n      <td>0</td>\n    </tr>\n    <tr>\n      <th>3</th>\n      <td>1000000.0</td>\n      <td>10163708.23</td>\n      <td>100000000.0</td>\n      <td>63000.0</td>\n      <td>2.57</td>\n      <td>0</td>\n      <td>0</td>\n      <td>1</td>\n      <td>0</td>\n      <td>0</td>\n      <td>...</td>\n      <td>0</td>\n      <td>1</td>\n      <td>0</td>\n      <td>0</td>\n      <td>1</td>\n      <td>0</td>\n      <td>1</td>\n      <td>0</td>\n      <td>1</td>\n      <td>0</td>\n    </tr>\n    <tr>\n      <th>4</th>\n      <td>2500000.0</td>\n      <td>690066.65</td>\n      <td>3523000.0</td>\n      <td>26500.0</td>\n      <td>4.23</td>\n      <td>0</td>\n      <td>0</td>\n      <td>0</td>\n      <td>1</td>\n      <td>0</td>\n      <td>...</td>\n      <td>0</td>\n      <td>1</td>\n      <td>0</td>\n      <td>0</td>\n      <td>1</td>\n      <td>0</td>\n      <td>1</td>\n      <td>0</td>\n      <td>1</td>\n      <td>0</td>\n    </tr>\n    <tr>\n      <th>...</th>\n      <td>...</td>\n      <td>...</td>\n      <td>...</td>\n      <td>...</td>\n      <td>...</td>\n      <td>...</td>\n      <td>...</td>\n      <td>...</td>\n      <td>...</td>\n      <td>...</td>\n      <td>...</td>\n      <td>...</td>\n      <td>...</td>\n      <td>...</td>\n      <td>...</td>\n      <td>...</td>\n      <td>...</td>\n      <td>...</td>\n      <td>...</td>\n      <td>...</td>\n      <td>...</td>\n    </tr>\n    <tr>\n      <th>10495</th>\n      <td>5000000.0</td>\n      <td>1667486.67</td>\n      <td>20000000.0</td>\n      <td>50000.0</td>\n      <td>4.15</td>\n      <td>0</td>\n      <td>0</td>\n      <td>0</td>\n      <td>1</td>\n      <td>0</td>\n      <td>...</td>\n      <td>0</td>\n      <td>1</td>\n      <td>0</td>\n      <td>0</td>\n      <td>1</td>\n      <td>0</td>\n      <td>1</td>\n      <td>0</td>\n      <td>1</td>\n      <td>0</td>\n    </tr>\n    <tr>\n      <th>10496</th>\n      <td>4800000.0</td>\n      <td>2530285.33</td>\n      <td>5000000.0</td>\n      <td>1000000.0</td>\n      <td>1.64</td>\n      <td>0</td>\n      <td>0</td>\n      <td>0</td>\n      <td>1</td>\n      <td>1</td>\n      <td>...</td>\n      <td>0</td>\n      <td>1</td>\n      <td>0</td>\n      <td>0</td>\n      <td>1</td>\n      <td>0</td>\n      <td>1</td>\n      <td>0</td>\n      <td>1</td>\n      <td>0</td>\n    </tr>\n    <tr>\n      <th>10497</th>\n      <td>2500000.0</td>\n      <td>1225000.00</td>\n      <td>10000000.0</td>\n      <td>100000.0</td>\n      <td>1.97</td>\n      <td>0</td>\n      <td>0</td>\n      <td>0</td>\n      <td>1</td>\n      <td>1</td>\n      <td>...</td>\n      <td>0</td>\n      <td>1</td>\n      <td>0</td>\n      <td>0</td>\n      <td>1</td>\n      <td>0</td>\n      <td>1</td>\n      <td>0</td>\n      <td>1</td>\n      <td>0</td>\n    </tr>\n    <tr>\n      <th>10498</th>\n      <td>1100000.0</td>\n      <td>820036.79</td>\n      <td>4000000.0</td>\n      <td>50000.0</td>\n      <td>3.16</td>\n      <td>0</td>\n      <td>0</td>\n      <td>0</td>\n      <td>1</td>\n      <td>1</td>\n      <td>...</td>\n      <td>0</td>\n      <td>1</td>\n      <td>0</td>\n      <td>0</td>\n      <td>1</td>\n      <td>0</td>\n      <td>1</td>\n      <td>0</td>\n      <td>1</td>\n      <td>0</td>\n    </tr>\n    <tr>\n      <th>10499</th>\n      <td>102500.0</td>\n      <td>571282.15</td>\n      <td>5000000.0</td>\n      <td>25000.0</td>\n      <td>2.36</td>\n      <td>0</td>\n      <td>0</td>\n      <td>1</td>\n      <td>0</td>\n      <td>1</td>\n      <td>...</td>\n      <td>1</td>\n      <td>0</td>\n      <td>1</td>\n      <td>0</td>\n      <td>1</td>\n      <td>0</td>\n      <td>1</td>\n      <td>0</td>\n      <td>0</td>\n      <td>1</td>\n    </tr>\n  </tbody>\n</table>\n<p>10484 rows × 25 columns</p>\n</div>",
      "text/plain": "       Transaction_Amount  Average_Transaction_Amount  \\\n0                 50000.0                   661855.03   \n1               1000000.0                  2171907.10   \n2               1000000.0                  1714437.98   \n3               1000000.0                 10163708.23   \n4               2500000.0                   690066.65   \n...                   ...                         ...   \n10495           5000000.0                  1667486.67   \n10496           4800000.0                  2530285.33   \n10497           2500000.0                  1225000.00   \n10498           1100000.0                   820036.79   \n10499            102500.0                   571282.15   \n\n       Maximum_Transaction_Amount  Minimum_Transaction_Amount  \\\n0                      11000000.0                     24212.0   \n1                      28555000.0                    100000.0   \n2                       8500000.0                        50.0   \n3                     100000000.0                     63000.0   \n4                       3523000.0                     26500.0   \n...                           ...                         ...   \n10495                  20000000.0                     50000.0   \n10496                   5000000.0                   1000000.0   \n10497                  10000000.0                    100000.0   \n10498                   4000000.0                     50000.0   \n10499                   5000000.0                     25000.0   \n\n       Average_Transaction_Frequency  Fraud_Status  Transaction_Type_Jarang  \\\n0                               2.91             0                        0   \n1                               3.12             1                        0   \n2                               3.58             0                        0   \n3                               2.57             0                        0   \n4                               4.23             0                        0   \n...                              ...           ...                      ...   \n10495                           4.15             0                        0   \n10496                           1.64             0                        0   \n10497                           1.97             0                        0   \n10498                           3.16             0                        0   \n10499                           2.36             0                        0   \n\n       Transaction_Type_Sering  Transaction_Type_Umum  Card_Type_Gold  ...  \\\n0                            1                      0               1  ...   \n1                            1                      0               0  ...   \n2                            1                      0               0  ...   \n3                            1                      0               0  ...   \n4                            0                      1               0  ...   \n...                        ...                    ...             ...  ...   \n10495                        0                      1               0  ...   \n10496                        0                      1               1  ...   \n10497                        0                      1               1  ...   \n10498                        0                      1               1  ...   \n10499                        1                      0               1  ...   \n\n       Channel_ID_Sekunder  Merchant_ID_Primer  Merchant_ID_Sekunder  \\\n0                        0                   1                     0   \n1                        0                   1                     0   \n2                        0                   1                     0   \n3                        0                   1                     0   \n4                        0                   1                     0   \n...                    ...                 ...                   ...   \n10495                    0                   1                     0   \n10496                    0                   1                     0   \n10497                    0                   1                     0   \n10498                    0                   1                     0   \n10499                    1                   0                     1   \n\n       Country_ID_Asing  Country_ID_Indonesia  EDC_Type_Bank  EDC_Type_GPRS  \\\n0                     0                     1              0              1   \n1                     0                     1              0              1   \n2                     0                     1              0              1   \n3                     0                     1              0              1   \n4                     0                     1              0              1   \n...                 ...                   ...            ...            ...   \n10495                 0                     1              0              1   \n10496                 0                     1              0              1   \n10497                 0                     1              0              1   \n10498                 0                     1              0              1   \n10499                 0                     1              0              1   \n\n       EDC_Type_Mobile  EDC_Owner_Pemilik  EDC_Owner_Sewa  \n0                    0                  1               0  \n1                    0                  1               0  \n2                    0                  1               0  \n3                    0                  1               0  \n4                    0                  1               0  \n...                ...                ...             ...  \n10495                0                  1               0  \n10496                0                  1               0  \n10497                0                  1               0  \n10498                0                  1               0  \n10499                0                  0               1  \n\n[10484 rows x 25 columns]"
     },
     "execution_count": 28,
     "metadata": {},
     "output_type": "execute_result"
    }
   ]
  },
  {
   "cell_type": "code",
   "metadata": {
    "cell_id": "00028-0bae26b2-17ba-44dc-b10b-ea61cde73b43",
    "deepnote_cell_type": "code"
   },
   "source": "",
   "execution_count": null,
   "outputs": []
  },
  {
   "cell_type": "markdown",
   "source": "<a style='text-decoration:none;line-height:16px;display:flex;color:#5B5B62;padding:10px;justify-content:end;' href='https://deepnote.com?utm_source=created-in-deepnote-cell&projectId=d45eaae7-31d4-4f2e-97ba-c3c70ea6b56e' target=\"_blank\">\n<img alt='Created in deepnote.com' style='display:inline;max-height:16px;margin:0px;margin-right:7.5px;' src='data:image/svg+xml;base64,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' > </img>\nCreated in <span style='font-weight:600;margin-left:4px;'>Deepnote</span></a>",
   "metadata": {
    "tags": [],
    "created_in_deepnote_cell": true,
    "deepnote_cell_type": "markdown"
   }
  }
 ],
 "nbformat": 4,
 "nbformat_minor": 5,
 "metadata": {
  "kernelspec": {
   "display_name": "Python 3 (ipykernel)",
   "language": "python",
   "name": "python3"
  },
  "language_info": {
   "codemirror_mode": {
    "name": "ipython",
    "version": 3
   },
   "file_extension": ".py",
   "mimetype": "text/x-python",
   "name": "python",
   "nbconvert_exporter": "python",
   "pygments_lexer": "ipython3",
   "version": "3.9.7"
  },
  "deepnote_notebook_id": "6ba363d9-7e44-4d91-8627-17941e10abf6",
  "deepnote": {},
  "deepnote_execution_queue": []
 }
}