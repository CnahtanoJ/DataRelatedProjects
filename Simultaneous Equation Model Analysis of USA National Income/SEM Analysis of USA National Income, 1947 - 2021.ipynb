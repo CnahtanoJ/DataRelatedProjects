{
 "cells": [
  {
   "cell_type": "markdown",
   "metadata": {},
   "source": [
    "Group : __11__ <br>\n",
    "Anggota Kelompok (NIM) : <br>\n",
    "- __Felicya Irenea Darmawi (23101910064)__\n",
    "- __David Hansel Gunawan (23101910071)__\n",
    "- __Jonathan C (23101910043)__<br>\n",
    "\n",
    "Prodi Angkatan : __BM2019__ <br>\n",
    "Mata Kuliah : __Econometrics__ <br>\n",
    "Hal: __UAS__ <br>\n",
    "Data : __GDP, Net Investment, and Profit of USA__ <br>\n",
    "Source : __https://apps.bea.gov/iTable/iTable.cfm?reqid=19&step=2#__ <br>"
   ]
  },
  {
   "cell_type": "markdown",
   "metadata": {},
   "source": [
    "# Analisis *Simultaneous Equation Model* Terhadap National Income (GDP) di USA"
   ]
  },
  {
   "cell_type": "markdown",
   "metadata": {},
   "source": [
    "## <font color='blue'>Import Libraries & Classes</font>"
   ]
  },
  {
   "cell_type": "code",
   "execution_count": 1,
   "metadata": {},
   "outputs": [],
   "source": [
    "import pandas as pd\n",
    "import numpy as np\n",
    "import statsmodels.api as sm\n",
    "import matplotlib.pyplot as plt\n",
    "import seaborn as sns\n",
    "import pylab as py\n",
    "\n",
    "from sklearn.linear_model import LinearRegression\n",
    "from linearmodels.iv import IV2SLS\n",
    "from statsmodels.stats.outliers_influence import variance_inflation_factor\n",
    "import statsmodels\n",
    "from statsmodels.stats.stattools import jarque_bera\n",
    "from statsmodels.stats.diagnostic import het_breuschpagan\n",
    "from patsy import dmatrices\n",
    "\n",
    "import warnings\n",
    "warnings.filterwarnings('ignore')"
   ]
  },
  {
   "cell_type": "markdown",
   "metadata": {},
   "source": [
    "## <font color='blue'>Import Data</font>"
   ]
  },
  {
   "cell_type": "code",
   "execution_count": 2,
   "metadata": {},
   "outputs": [
    {
     "data": {
      "text/html": [
       "<div>\n",
       "<style scoped>\n",
       "    .dataframe tbody tr th:only-of-type {\n",
       "        vertical-align: middle;\n",
       "    }\n",
       "\n",
       "    .dataframe tbody tr th {\n",
       "        vertical-align: top;\n",
       "    }\n",
       "\n",
       "    .dataframe thead th {\n",
       "        text-align: right;\n",
       "    }\n",
       "</style>\n",
       "<table border=\"1\" class=\"dataframe\">\n",
       "  <thead>\n",
       "    <tr style=\"text-align: right;\">\n",
       "      <th></th>\n",
       "      <th>Date</th>\n",
       "      <th>Income</th>\n",
       "      <th>Previous_Income</th>\n",
       "      <th>Investment</th>\n",
       "      <th>Profit</th>\n",
       "    </tr>\n",
       "  </thead>\n",
       "  <tbody>\n",
       "    <tr>\n",
       "      <th>0</th>\n",
       "      <td>1947-04-01</td>\n",
       "      <td>246.0</td>\n",
       "      <td>243.2</td>\n",
       "      <td>34.5</td>\n",
       "      <td>20.788</td>\n",
       "    </tr>\n",
       "    <tr>\n",
       "      <th>1</th>\n",
       "      <td>1947-07-01</td>\n",
       "      <td>249.6</td>\n",
       "      <td>246.0</td>\n",
       "      <td>34.9</td>\n",
       "      <td>20.564</td>\n",
       "    </tr>\n",
       "    <tr>\n",
       "      <th>2</th>\n",
       "      <td>1947-10-01</td>\n",
       "      <td>259.7</td>\n",
       "      <td>249.6</td>\n",
       "      <td>43.3</td>\n",
       "      <td>22.451</td>\n",
       "    </tr>\n",
       "    <tr>\n",
       "      <th>3</th>\n",
       "      <td>1948-01-01</td>\n",
       "      <td>265.7</td>\n",
       "      <td>259.7</td>\n",
       "      <td>47.2</td>\n",
       "      <td>23.739</td>\n",
       "    </tr>\n",
       "    <tr>\n",
       "      <th>4</th>\n",
       "      <td>1948-04-01</td>\n",
       "      <td>272.6</td>\n",
       "      <td>265.7</td>\n",
       "      <td>50.3</td>\n",
       "      <td>24.941</td>\n",
       "    </tr>\n",
       "    <tr>\n",
       "      <th>...</th>\n",
       "      <td>...</td>\n",
       "      <td>...</td>\n",
       "      <td>...</td>\n",
       "      <td>...</td>\n",
       "      <td>...</td>\n",
       "    </tr>\n",
       "    <tr>\n",
       "      <th>291</th>\n",
       "      <td>2020-01-01</td>\n",
       "      <td>21561.1</td>\n",
       "      <td>21747.4</td>\n",
       "      <td>3675.9</td>\n",
       "      <td>1739.103</td>\n",
       "    </tr>\n",
       "    <tr>\n",
       "      <th>292</th>\n",
       "      <td>2020-04-01</td>\n",
       "      <td>19520.1</td>\n",
       "      <td>21561.1</td>\n",
       "      <td>3128.6</td>\n",
       "      <td>1557.064</td>\n",
       "    </tr>\n",
       "    <tr>\n",
       "      <th>293</th>\n",
       "      <td>2020-07-01</td>\n",
       "      <td>21170.3</td>\n",
       "      <td>19520.1</td>\n",
       "      <td>3688.2</td>\n",
       "      <td>2118.856</td>\n",
       "    </tr>\n",
       "    <tr>\n",
       "      <th>294</th>\n",
       "      <td>2020-10-01</td>\n",
       "      <td>21494.7</td>\n",
       "      <td>21170.3</td>\n",
       "      <td>3926.3</td>\n",
       "      <td>2082.470</td>\n",
       "    </tr>\n",
       "    <tr>\n",
       "      <th>295</th>\n",
       "      <td>2021-01-01</td>\n",
       "      <td>22061.5</td>\n",
       "      <td>21494.7</td>\n",
       "      <td>3920.0</td>\n",
       "      <td>2227.745</td>\n",
       "    </tr>\n",
       "  </tbody>\n",
       "</table>\n",
       "<p>296 rows × 5 columns</p>\n",
       "</div>"
      ],
      "text/plain": [
       "          Date   Income  Previous_Income  Investment    Profit\n",
       "0   1947-04-01    246.0            243.2        34.5    20.788\n",
       "1   1947-07-01    249.6            246.0        34.9    20.564\n",
       "2   1947-10-01    259.7            249.6        43.3    22.451\n",
       "3   1948-01-01    265.7            259.7        47.2    23.739\n",
       "4   1948-04-01    272.6            265.7        50.3    24.941\n",
       "..         ...      ...              ...         ...       ...\n",
       "291 2020-01-01  21561.1          21747.4      3675.9  1739.103\n",
       "292 2020-04-01  19520.1          21561.1      3128.6  1557.064\n",
       "293 2020-07-01  21170.3          19520.1      3688.2  2118.856\n",
       "294 2020-10-01  21494.7          21170.3      3926.3  2082.470\n",
       "295 2021-01-01  22061.5          21494.7      3920.0  2227.745\n",
       "\n",
       "[296 rows x 5 columns]"
      ]
     },
     "execution_count": 2,
     "metadata": {},
     "output_type": "execute_result"
    }
   ],
   "source": [
    "DF = pd.read_excel('Final Dataset Econometrics.xlsx', sheet_name = 'Menges', parse_dates = ['Date'])\n",
    "DF"
   ]
  },
  {
   "cell_type": "markdown",
   "metadata": {},
   "source": [
    "## <font color='blue'>Structural Model</font>\n",
    "\n",
    "G. Menges econometrics submodel for the West German economy in 1975:<br>\n",
    "$Y_t = \\beta_0 + \\beta_1 Y_{t-1} + \\beta_2 I_t + u_{1t}$<br>\n",
    "$I_t = \\beta_3 + \\beta_4 Y_t + \\beta_5 Q_t + u_{2t}$<br>\n",
    "\n",
    "where<br>\n",
    "$Y_t$ = National Income / Income<br>\n",
    "$I_t$ = Net Capital Formation / Investment<br>\n",
    "$Y_{t-1}$ = National Income at t-1 / Previous Income<br>\n",
    "$Q_t$ = Profit"
   ]
  },
  {
   "cell_type": "markdown",
   "metadata": {},
   "source": [
    "## <font color='blue'>Reduced Form Model</font>\n",
    "\n",
    "$Y_t = \\beta_0 + \\beta_1 Y_{t-1} + \\beta_2 I_t + u_{1t}$<br>\n",
    "$Y_t = \\beta_0 + \\beta_1 Y_{t-1} + \\beta_2 (\\beta_3 + \\beta_4 Y_t + \\beta_5 Q_t + u_{2t}) + u_{1t}$<br>\n",
    "$Y_t = \\beta_0 + \\beta_1 Y_{t-1} + \\beta_2 \\beta_3 + \\beta_2 \\beta_4 Y_t + \\beta_2 \\beta_5 Q_t + \\beta_2 u_{2t} + u_{1t}$<br>\n",
    "$(1 - \\beta_2 \\beta_4) Y_t = (\\beta_0 + \\beta_2 \\beta_3) + \\beta_1 Y_{t-1} + \\beta_2 \\beta_5 Q_t + (\\beta_2 u_{2t} + u_{1t})$<br>\n",
    "$Y_t = \\alpha_0 + \\alpha_1 Y_{t-1} + \\alpha_2 Q_t + \\epsilon_{1t}$<br>\n",
    "\n",
    "where<br>\n",
    "$\\alpha_0 = \\frac {\\beta_0 + \\beta_2 \\beta_3}{1 - \\beta_2 \\beta_4}$<br>\n",
    "$\\alpha_1 = \\frac {\\beta_1}{1 - \\beta_2 \\beta_4}$<br>\n",
    "$\\alpha_2 = \\frac {\\beta_2 \\beta_5}{1 - \\beta_2 \\beta_4}$<br>\n",
    "$\\epsilon_{1t} = \\frac {\\beta_2 u_{2t} + u_{1t}}{1 - \\beta_2 \\beta_4}$<br>\n",
    "\n",
    "$I_t = \\beta_3 + \\beta_4 Y_t + \\beta_5 Q_t + u_{2t}$<br>\n",
    "$I_t = \\beta_3 + \\beta_4 (\\beta_0 + \\beta_1 Y_{t-1} + \\beta_2 I_t + u_{1t}) + \\beta_5 Q_t + u_{2t}$<br>\n",
    "$I_t = \\beta_3 + \\beta_4 \\beta_0 + \\beta_4 \\beta_1 Y_{t-1} + \\beta_4 \\beta_2 I_t + \\beta_4 u_{1t} + \\beta_5 Q_t + u_{2t}$<br>\n",
    "$(1 - \\beta_4 \\beta_2) I_t = (\\beta_3 + \\beta_4 \\beta_0) + \\beta_4 \\beta_1 Y_{t-1} + \\beta_5 Q_t + (\\beta_4 u_{1t} + u_{2t})$<br>\n",
    "$I_t = \\lambda_0 + \\lambda_1 Y_{t-1} + \\lambda_2 Q_t + \\epsilon_{2t}$<br>\n",
    "\n",
    "where<br>\n",
    "$\\lambda_0 = \\frac {\\beta_3 + \\beta_4 \\beta_0}{1 - \\beta_4 \\beta_2}$<br>\n",
    "$\\lambda_1 = \\frac {\\beta_4 \\beta_1}{1 - \\beta_4 \\beta_2}$<br>\n",
    "$\\lambda_2 = \\frac {\\beta_5}{1 - \\beta_4 \\beta_2}$<br>\n",
    "$\\epsilon_{2t} = \\frac {\\beta_4 u_{1t} + u_{2t}}{1 - \\beta_4 \\beta_2}$<br>"
   ]
  },
  {
   "cell_type": "markdown",
   "metadata": {},
   "source": [
    "## <font color='blue'>Data Preprocessing</font>"
   ]
  },
  {
   "cell_type": "markdown",
   "metadata": {},
   "source": [
    "### Check Null and Duplicated Entries"
   ]
  },
  {
   "cell_type": "code",
   "execution_count": 3,
   "metadata": {},
   "outputs": [
    {
     "data": {
      "text/plain": [
       "Date               0\n",
       "Income             0\n",
       "Previous_Income    0\n",
       "Investment         0\n",
       "Profit             0\n",
       "dtype: int64"
      ]
     },
     "execution_count": 3,
     "metadata": {},
     "output_type": "execute_result"
    }
   ],
   "source": [
    "DF.isnull().sum()"
   ]
  },
  {
   "cell_type": "code",
   "execution_count": 4,
   "metadata": {},
   "outputs": [
    {
     "data": {
      "text/plain": [
       "0"
      ]
     },
     "execution_count": 4,
     "metadata": {},
     "output_type": "execute_result"
    }
   ],
   "source": [
    "DF.duplicated().sum()"
   ]
  },
  {
   "cell_type": "markdown",
   "metadata": {},
   "source": [
    "======================================================================================================================= <br>\n",
    "There is no null and duplicated entry.\n",
    "======================================================================================================================= <br>"
   ]
  },
  {
   "cell_type": "markdown",
   "metadata": {},
   "source": [
    "### Check and Fix Data Type for Each Column"
   ]
  },
  {
   "cell_type": "code",
   "execution_count": 5,
   "metadata": {},
   "outputs": [
    {
     "name": "stdout",
     "output_type": "stream",
     "text": [
      "<class 'pandas.core.frame.DataFrame'>\n",
      "RangeIndex: 296 entries, 0 to 295\n",
      "Data columns (total 5 columns):\n",
      " #   Column           Non-Null Count  Dtype         \n",
      "---  ------           --------------  -----         \n",
      " 0   Date             296 non-null    datetime64[ns]\n",
      " 1   Income           296 non-null    float64       \n",
      " 2   Previous_Income  296 non-null    float64       \n",
      " 3   Investment       296 non-null    float64       \n",
      " 4   Profit           296 non-null    float64       \n",
      "dtypes: datetime64[ns](1), float64(4)\n",
      "memory usage: 11.7 KB\n"
     ]
    }
   ],
   "source": [
    "DF.info()"
   ]
  },
  {
   "cell_type": "markdown",
   "metadata": {},
   "source": [
    "======================================================================================================================= <br>\n",
    "The data type is appropriate.\n",
    "======================================================================================================================= <br>"
   ]
  },
  {
   "cell_type": "markdown",
   "metadata": {},
   "source": [
    "### Data Descriptive Statistics Summary"
   ]
  },
  {
   "cell_type": "code",
   "execution_count": 6,
   "metadata": {},
   "outputs": [
    {
     "data": {
      "text/html": [
       "<div>\n",
       "<style scoped>\n",
       "    .dataframe tbody tr th:only-of-type {\n",
       "        vertical-align: middle;\n",
       "    }\n",
       "\n",
       "    .dataframe tbody tr th {\n",
       "        vertical-align: top;\n",
       "    }\n",
       "\n",
       "    .dataframe thead th {\n",
       "        text-align: right;\n",
       "    }\n",
       "</style>\n",
       "<table border=\"1\" class=\"dataframe\">\n",
       "  <thead>\n",
       "    <tr style=\"text-align: right;\">\n",
       "      <th></th>\n",
       "      <th>Income</th>\n",
       "      <th>Previous_Income</th>\n",
       "      <th>Investment</th>\n",
       "      <th>Profit</th>\n",
       "    </tr>\n",
       "  </thead>\n",
       "  <tbody>\n",
       "    <tr>\n",
       "      <th>count</th>\n",
       "      <td>296.000000</td>\n",
       "      <td>296.000000</td>\n",
       "      <td>296.000000</td>\n",
       "      <td>296.000000</td>\n",
       "    </tr>\n",
       "    <tr>\n",
       "      <th>mean</th>\n",
       "      <td>6471.220946</td>\n",
       "      <td>6397.510473</td>\n",
       "      <td>1127.235473</td>\n",
       "      <td>520.854679</td>\n",
       "    </tr>\n",
       "    <tr>\n",
       "      <th>std</th>\n",
       "      <td>6537.439731</td>\n",
       "      <td>6483.843829</td>\n",
       "      <td>1130.105959</td>\n",
       "      <td>638.230782</td>\n",
       "    </tr>\n",
       "    <tr>\n",
       "      <th>min</th>\n",
       "      <td>246.000000</td>\n",
       "      <td>243.200000</td>\n",
       "      <td>34.500000</td>\n",
       "      <td>19.172000</td>\n",
       "    </tr>\n",
       "    <tr>\n",
       "      <th>25%</th>\n",
       "      <td>766.250000</td>\n",
       "      <td>744.525000</td>\n",
       "      <td>133.150000</td>\n",
       "      <td>53.475250</td>\n",
       "    </tr>\n",
       "    <tr>\n",
       "      <th>50%</th>\n",
       "      <td>3958.850000</td>\n",
       "      <td>3851.400000</td>\n",
       "      <td>800.400000</td>\n",
       "      <td>210.770000</td>\n",
       "    </tr>\n",
       "    <tr>\n",
       "      <th>75%</th>\n",
       "      <td>11011.950000</td>\n",
       "      <td>10917.925000</td>\n",
       "      <td>1971.575000</td>\n",
       "      <td>669.457750</td>\n",
       "    </tr>\n",
       "    <tr>\n",
       "      <th>max</th>\n",
       "      <td>22061.500000</td>\n",
       "      <td>21747.400000</td>\n",
       "      <td>3926.300000</td>\n",
       "      <td>2227.745000</td>\n",
       "    </tr>\n",
       "  </tbody>\n",
       "</table>\n",
       "</div>"
      ],
      "text/plain": [
       "             Income  Previous_Income   Investment       Profit\n",
       "count    296.000000       296.000000   296.000000   296.000000\n",
       "mean    6471.220946      6397.510473  1127.235473   520.854679\n",
       "std     6537.439731      6483.843829  1130.105959   638.230782\n",
       "min      246.000000       243.200000    34.500000    19.172000\n",
       "25%      766.250000       744.525000   133.150000    53.475250\n",
       "50%     3958.850000      3851.400000   800.400000   210.770000\n",
       "75%    11011.950000     10917.925000  1971.575000   669.457750\n",
       "max    22061.500000     21747.400000  3926.300000  2227.745000"
      ]
     },
     "execution_count": 6,
     "metadata": {},
     "output_type": "execute_result"
    }
   ],
   "source": [
    "DF.describe()"
   ]
  },
  {
   "cell_type": "markdown",
   "metadata": {},
   "source": [
    "======================================================================================================================= <br>\n",
    "1. Mean adalah nilai rata-rata dari data. \n",
    "2. Median (50%) adalah nilai tengah dari data, yang membagi dua distribusi dengan sama rata.\n",
    "3. Standar Deviasi (std) digunakan untuk menentukan persebaran data dalam suatu sampel dan melihat seberapa dekat data-data tersebut dengan mean.\n",
    "4. Variance adalah ukuran seberapa tersebarnya data.\n",
    "5. Minimum adalah nilai terkecil dari data.\n",
    "6. Maksimum adalah nilai terbesar dari data.\n",
    "7. Kuartil bawah (25%) adalah nilai tengah antara minimum dan median dari data.\n",
    "8. Kuartil atas (75%) adalah nilai tengah antara minimum dan median dari data.\n",
    "9. Inter Quartile Range (iqr) adalah selisih antara kuartil atas (75%) dengan kuartil bawah (25%). IQR juga digunakan untuk mengidentifikasi outliers. \n",
    "\n",
    "Cara membaca tabel untuk data Income (GDP):<br>\n",
    "Berdasarkan tabel diatas, rata-rata national income (GDP) untuk setiap kuartil di USA adalah 6471.2209. Dengan nilai standar deviasi 6537.4397, 95% sebaran data dari kolom Income berada di range mean $\\pm$ 2\\*std, yaitu di antara -6603.6585 $\\leqslant$ Income $\\leqslant$ 19546.1004. Jumlah GDP per kuartil memiliki nilai minimum 246, kuartil bawah (Q1) 766.25, nilai tengah (median) 3958.85, kuartil atas (Q3) 11011.95, dan nilai maximum 22061.95 miliar USD sehingga bisa didapatkan bahwa nilai iqrnya adalah 10245.7. Data pada kolom Income yang memiliki nilai dibawah Q1 - 1,5\\*iqr atau diatas Q3 + 1,5\\*iqr adalah outliers. ======================================================================================================================= <br>"
   ]
  },
  {
   "cell_type": "markdown",
   "metadata": {},
   "source": [
    "### Box Plot of Each Variables to Check Outliers"
   ]
  },
  {
   "cell_type": "code",
   "execution_count": 7,
   "metadata": {},
   "outputs": [
    {
     "data": {
      "image/png": "[encoded data removed]",
      "text/plain": [
       "<Figure size 720x720 with 1 Axes>"
      ]
     },
     "metadata": {
      "needs_background": "light"
     },
     "output_type": "display_data"
    }
   ],
   "source": [
    "DF.plot(figsize=(10,10), kind='box')\n",
    "plt.show()"
   ]
  },
  {
   "cell_type": "code",
   "execution_count": 8,
   "metadata": {},
   "outputs": [
    {
     "data": {
      "text/html": [
       "<div>\n",
       "<style scoped>\n",
       "    .dataframe tbody tr th:only-of-type {\n",
       "        vertical-align: middle;\n",
       "    }\n",
       "\n",
       "    .dataframe tbody tr th {\n",
       "        vertical-align: top;\n",
       "    }\n",
       "\n",
       "    .dataframe thead th {\n",
       "        text-align: right;\n",
       "    }\n",
       "</style>\n",
       "<table border=\"1\" class=\"dataframe\">\n",
       "  <thead>\n",
       "    <tr style=\"text-align: right;\">\n",
       "      <th></th>\n",
       "      <th>Date</th>\n",
       "      <th>Income</th>\n",
       "      <th>Previous_Income</th>\n",
       "      <th>Investment</th>\n",
       "      <th>Profit</th>\n",
       "    </tr>\n",
       "  </thead>\n",
       "  <tbody>\n",
       "    <tr>\n",
       "      <th>250</th>\n",
       "      <td>2009-10-01</td>\n",
       "      <td>14628.0</td>\n",
       "      <td>14420.3</td>\n",
       "      <td>1998.7</td>\n",
       "      <td>1462.942</td>\n",
       "    </tr>\n",
       "    <tr>\n",
       "      <th>251</th>\n",
       "      <td>2010-01-01</td>\n",
       "      <td>14721.4</td>\n",
       "      <td>14628.0</td>\n",
       "      <td>2038.2</td>\n",
       "      <td>1530.604</td>\n",
       "    </tr>\n",
       "    <tr>\n",
       "      <th>252</th>\n",
       "      <td>2010-04-01</td>\n",
       "      <td>14926.1</td>\n",
       "      <td>14721.4</td>\n",
       "      <td>2148.8</td>\n",
       "      <td>1517.068</td>\n",
       "    </tr>\n",
       "    <tr>\n",
       "      <th>253</th>\n",
       "      <td>2010-07-01</td>\n",
       "      <td>15079.9</td>\n",
       "      <td>14926.1</td>\n",
       "      <td>2236.5</td>\n",
       "      <td>1600.154</td>\n",
       "    </tr>\n",
       "    <tr>\n",
       "      <th>254</th>\n",
       "      <td>2010-10-01</td>\n",
       "      <td>15240.8</td>\n",
       "      <td>15079.9</td>\n",
       "      <td>2238.4</td>\n",
       "      <td>1599.159</td>\n",
       "    </tr>\n",
       "    <tr>\n",
       "      <th>255</th>\n",
       "      <td>2011-01-01</td>\n",
       "      <td>15285.8</td>\n",
       "      <td>15240.8</td>\n",
       "      <td>2206.0</td>\n",
       "      <td>1464.223</td>\n",
       "    </tr>\n",
       "    <tr>\n",
       "      <th>256</th>\n",
       "      <td>2011-04-01</td>\n",
       "      <td>15496.2</td>\n",
       "      <td>15285.8</td>\n",
       "      <td>2297.4</td>\n",
       "      <td>1529.084</td>\n",
       "    </tr>\n",
       "    <tr>\n",
       "      <th>257</th>\n",
       "      <td>2011-07-01</td>\n",
       "      <td>15591.9</td>\n",
       "      <td>15496.2</td>\n",
       "      <td>2322.8</td>\n",
       "      <td>1539.465</td>\n",
       "    </tr>\n",
       "    <tr>\n",
       "      <th>258</th>\n",
       "      <td>2011-10-01</td>\n",
       "      <td>15796.5</td>\n",
       "      <td>15591.9</td>\n",
       "      <td>2504.1</td>\n",
       "      <td>1617.095</td>\n",
       "    </tr>\n",
       "    <tr>\n",
       "      <th>259</th>\n",
       "      <td>2012-01-01</td>\n",
       "      <td>16019.8</td>\n",
       "      <td>15796.5</td>\n",
       "      <td>2567.8</td>\n",
       "      <td>1880.022</td>\n",
       "    </tr>\n",
       "    <tr>\n",
       "      <th>260</th>\n",
       "      <td>2012-04-01</td>\n",
       "      <td>16152.3</td>\n",
       "      <td>16019.8</td>\n",
       "      <td>2636.9</td>\n",
       "      <td>1801.743</td>\n",
       "    </tr>\n",
       "    <tr>\n",
       "      <th>261</th>\n",
       "      <td>2012-07-01</td>\n",
       "      <td>16257.2</td>\n",
       "      <td>16152.3</td>\n",
       "      <td>2644.1</td>\n",
       "      <td>1818.331</td>\n",
       "    </tr>\n",
       "    <tr>\n",
       "      <th>262</th>\n",
       "      <td>2012-10-01</td>\n",
       "      <td>16358.9</td>\n",
       "      <td>16257.2</td>\n",
       "      <td>2638.3</td>\n",
       "      <td>1785.961</td>\n",
       "    </tr>\n",
       "    <tr>\n",
       "      <th>263</th>\n",
       "      <td>2013-01-01</td>\n",
       "      <td>16569.6</td>\n",
       "      <td>16358.9</td>\n",
       "      <td>2738.2</td>\n",
       "      <td>1766.372</td>\n",
       "    </tr>\n",
       "    <tr>\n",
       "      <th>264</th>\n",
       "      <td>2013-04-01</td>\n",
       "      <td>16637.9</td>\n",
       "      <td>16569.6</td>\n",
       "      <td>2775.3</td>\n",
       "      <td>1757.557</td>\n",
       "    </tr>\n",
       "    <tr>\n",
       "      <th>265</th>\n",
       "      <td>2013-07-01</td>\n",
       "      <td>16848.7</td>\n",
       "      <td>16637.9</td>\n",
       "      <td>2880.0</td>\n",
       "      <td>1792.757</td>\n",
       "    </tr>\n",
       "    <tr>\n",
       "      <th>266</th>\n",
       "      <td>2013-10-01</td>\n",
       "      <td>17083.1</td>\n",
       "      <td>16848.7</td>\n",
       "      <td>2910.5</td>\n",
       "      <td>1838.838</td>\n",
       "    </tr>\n",
       "    <tr>\n",
       "      <th>267</th>\n",
       "      <td>2014-01-01</td>\n",
       "      <td>17104.6</td>\n",
       "      <td>17083.1</td>\n",
       "      <td>2899.2</td>\n",
       "      <td>1767.596</td>\n",
       "    </tr>\n",
       "    <tr>\n",
       "      <th>268</th>\n",
       "      <td>2014-04-01</td>\n",
       "      <td>17432.9</td>\n",
       "      <td>17104.6</td>\n",
       "      <td>3030.4</td>\n",
       "      <td>1865.140</td>\n",
       "    </tr>\n",
       "    <tr>\n",
       "      <th>269</th>\n",
       "      <td>2014-07-01</td>\n",
       "      <td>17721.7</td>\n",
       "      <td>17432.9</td>\n",
       "      <td>3107.6</td>\n",
       "      <td>1917.769</td>\n",
       "    </tr>\n",
       "    <tr>\n",
       "      <th>270</th>\n",
       "      <td>2014-10-01</td>\n",
       "      <td>17849.9</td>\n",
       "      <td>17721.7</td>\n",
       "      <td>3139.5</td>\n",
       "      <td>1879.109</td>\n",
       "    </tr>\n",
       "    <tr>\n",
       "      <th>271</th>\n",
       "      <td>2015-01-01</td>\n",
       "      <td>18003.4</td>\n",
       "      <td>17849.9</td>\n",
       "      <td>3245.1</td>\n",
       "      <td>1770.989</td>\n",
       "    </tr>\n",
       "    <tr>\n",
       "      <th>272</th>\n",
       "      <td>2015-04-01</td>\n",
       "      <td>18223.6</td>\n",
       "      <td>18003.4</td>\n",
       "      <td>3245.8</td>\n",
       "      <td>1789.321</td>\n",
       "    </tr>\n",
       "    <tr>\n",
       "      <th>273</th>\n",
       "      <td>2015-07-01</td>\n",
       "      <td>18347.4</td>\n",
       "      <td>18223.6</td>\n",
       "      <td>3251.7</td>\n",
       "      <td>1732.347</td>\n",
       "    </tr>\n",
       "    <tr>\n",
       "      <th>274</th>\n",
       "      <td>2015-10-01</td>\n",
       "      <td>18378.8</td>\n",
       "      <td>18347.4</td>\n",
       "      <td>3206.1</td>\n",
       "      <td>1635.297</td>\n",
       "    </tr>\n",
       "    <tr>\n",
       "      <th>275</th>\n",
       "      <td>2016-01-01</td>\n",
       "      <td>18470.2</td>\n",
       "      <td>18378.8</td>\n",
       "      <td>3166.0</td>\n",
       "      <td>1693.864</td>\n",
       "    </tr>\n",
       "    <tr>\n",
       "      <th>276</th>\n",
       "      <td>2016-04-01</td>\n",
       "      <td>18656.2</td>\n",
       "      <td>18470.2</td>\n",
       "      <td>3157.9</td>\n",
       "      <td>1752.403</td>\n",
       "    </tr>\n",
       "    <tr>\n",
       "      <th>277</th>\n",
       "      <td>2016-07-01</td>\n",
       "      <td>18821.4</td>\n",
       "      <td>18656.2</td>\n",
       "      <td>3167.0</td>\n",
       "      <td>1743.196</td>\n",
       "    </tr>\n",
       "    <tr>\n",
       "      <th>278</th>\n",
       "      <td>2016-10-01</td>\n",
       "      <td>19032.6</td>\n",
       "      <td>18821.4</td>\n",
       "      <td>3262.4</td>\n",
       "      <td>1805.959</td>\n",
       "    </tr>\n",
       "    <tr>\n",
       "      <th>279</th>\n",
       "      <td>2017-01-01</td>\n",
       "      <td>19237.4</td>\n",
       "      <td>19032.6</td>\n",
       "      <td>3266.2</td>\n",
       "      <td>1899.067</td>\n",
       "    </tr>\n",
       "    <tr>\n",
       "      <th>280</th>\n",
       "      <td>2017-04-01</td>\n",
       "      <td>19379.2</td>\n",
       "      <td>19237.4</td>\n",
       "      <td>3313.3</td>\n",
       "      <td>1885.436</td>\n",
       "    </tr>\n",
       "    <tr>\n",
       "      <th>281</th>\n",
       "      <td>2017-07-01</td>\n",
       "      <td>19617.3</td>\n",
       "      <td>19379.2</td>\n",
       "      <td>3378.8</td>\n",
       "      <td>1934.366</td>\n",
       "    </tr>\n",
       "    <tr>\n",
       "      <th>282</th>\n",
       "      <td>2017-10-01</td>\n",
       "      <td>19938.0</td>\n",
       "      <td>19617.3</td>\n",
       "      <td>3446.3</td>\n",
       "      <td>1768.632</td>\n",
       "    </tr>\n",
       "    <tr>\n",
       "      <th>283</th>\n",
       "      <td>2018-01-01</td>\n",
       "      <td>20242.2</td>\n",
       "      <td>19938.0</td>\n",
       "      <td>3555.0</td>\n",
       "      <td>1900.187</td>\n",
       "    </tr>\n",
       "    <tr>\n",
       "      <th>284</th>\n",
       "      <td>2018-04-01</td>\n",
       "      <td>20552.7</td>\n",
       "      <td>20242.2</td>\n",
       "      <td>3580.9</td>\n",
       "      <td>1907.847</td>\n",
       "    </tr>\n",
       "    <tr>\n",
       "      <th>285</th>\n",
       "      <td>2018-07-01</td>\n",
       "      <td>20742.7</td>\n",
       "      <td>20552.7</td>\n",
       "      <td>3671.7</td>\n",
       "      <td>1907.514</td>\n",
       "    </tr>\n",
       "    <tr>\n",
       "      <th>286</th>\n",
       "      <td>2018-10-01</td>\n",
       "      <td>20909.9</td>\n",
       "      <td>20742.7</td>\n",
       "      <td>3723.9</td>\n",
       "      <td>1899.589</td>\n",
       "    </tr>\n",
       "    <tr>\n",
       "      <th>287</th>\n",
       "      <td>2019-01-01</td>\n",
       "      <td>21115.3</td>\n",
       "      <td>20909.9</td>\n",
       "      <td>3772.8</td>\n",
       "      <td>1894.367</td>\n",
       "    </tr>\n",
       "    <tr>\n",
       "      <th>288</th>\n",
       "      <td>2019-04-01</td>\n",
       "      <td>21329.9</td>\n",
       "      <td>21115.3</td>\n",
       "      <td>3739.7</td>\n",
       "      <td>1938.893</td>\n",
       "    </tr>\n",
       "    <tr>\n",
       "      <th>289</th>\n",
       "      <td>2019-07-01</td>\n",
       "      <td>21540.3</td>\n",
       "      <td>21329.9</td>\n",
       "      <td>3759.8</td>\n",
       "      <td>1920.338</td>\n",
       "    </tr>\n",
       "    <tr>\n",
       "      <th>290</th>\n",
       "      <td>2019-10-01</td>\n",
       "      <td>21747.4</td>\n",
       "      <td>21540.3</td>\n",
       "      <td>3732.6</td>\n",
       "      <td>2000.736</td>\n",
       "    </tr>\n",
       "    <tr>\n",
       "      <th>291</th>\n",
       "      <td>2020-01-01</td>\n",
       "      <td>21561.1</td>\n",
       "      <td>21747.4</td>\n",
       "      <td>3675.9</td>\n",
       "      <td>1739.103</td>\n",
       "    </tr>\n",
       "    <tr>\n",
       "      <th>292</th>\n",
       "      <td>2020-04-01</td>\n",
       "      <td>19520.1</td>\n",
       "      <td>21561.1</td>\n",
       "      <td>3128.6</td>\n",
       "      <td>1557.064</td>\n",
       "    </tr>\n",
       "    <tr>\n",
       "      <th>293</th>\n",
       "      <td>2020-07-01</td>\n",
       "      <td>21170.3</td>\n",
       "      <td>19520.1</td>\n",
       "      <td>3688.2</td>\n",
       "      <td>2118.856</td>\n",
       "    </tr>\n",
       "    <tr>\n",
       "      <th>294</th>\n",
       "      <td>2020-10-01</td>\n",
       "      <td>21494.7</td>\n",
       "      <td>21170.3</td>\n",
       "      <td>3926.3</td>\n",
       "      <td>2082.470</td>\n",
       "    </tr>\n",
       "    <tr>\n",
       "      <th>295</th>\n",
       "      <td>2021-01-01</td>\n",
       "      <td>22061.5</td>\n",
       "      <td>21494.7</td>\n",
       "      <td>3920.0</td>\n",
       "      <td>2227.745</td>\n",
       "    </tr>\n",
       "  </tbody>\n",
       "</table>\n",
       "</div>"
      ],
      "text/plain": [
       "          Date   Income  Previous_Income  Investment    Profit\n",
       "250 2009-10-01  14628.0          14420.3      1998.7  1462.942\n",
       "251 2010-01-01  14721.4          14628.0      2038.2  1530.604\n",
       "252 2010-04-01  14926.1          14721.4      2148.8  1517.068\n",
       "253 2010-07-01  15079.9          14926.1      2236.5  1600.154\n",
       "254 2010-10-01  15240.8          15079.9      2238.4  1599.159\n",
       "255 2011-01-01  15285.8          15240.8      2206.0  1464.223\n",
       "256 2011-04-01  15496.2          15285.8      2297.4  1529.084\n",
       "257 2011-07-01  15591.9          15496.2      2322.8  1539.465\n",
       "258 2011-10-01  15796.5          15591.9      2504.1  1617.095\n",
       "259 2012-01-01  16019.8          15796.5      2567.8  1880.022\n",
       "260 2012-04-01  16152.3          16019.8      2636.9  1801.743\n",
       "261 2012-07-01  16257.2          16152.3      2644.1  1818.331\n",
       "262 2012-10-01  16358.9          16257.2      2638.3  1785.961\n",
       "263 2013-01-01  16569.6          16358.9      2738.2  1766.372\n",
       "264 2013-04-01  16637.9          16569.6      2775.3  1757.557\n",
       "265 2013-07-01  16848.7          16637.9      2880.0  1792.757\n",
       "266 2013-10-01  17083.1          16848.7      2910.5  1838.838\n",
       "267 2014-01-01  17104.6          17083.1      2899.2  1767.596\n",
       "268 2014-04-01  17432.9          17104.6      3030.4  1865.140\n",
       "269 2014-07-01  17721.7          17432.9      3107.6  1917.769\n",
       "270 2014-10-01  17849.9          17721.7      3139.5  1879.109\n",
       "271 2015-01-01  18003.4          17849.9      3245.1  1770.989\n",
       "272 2015-04-01  18223.6          18003.4      3245.8  1789.321\n",
       "273 2015-07-01  18347.4          18223.6      3251.7  1732.347\n",
       "274 2015-10-01  18378.8          18347.4      3206.1  1635.297\n",
       "275 2016-01-01  18470.2          18378.8      3166.0  1693.864\n",
       "276 2016-04-01  18656.2          18470.2      3157.9  1752.403\n",
       "277 2016-07-01  18821.4          18656.2      3167.0  1743.196\n",
       "278 2016-10-01  19032.6          18821.4      3262.4  1805.959\n",
       "279 2017-01-01  19237.4          19032.6      3266.2  1899.067\n",
       "280 2017-04-01  19379.2          19237.4      3313.3  1885.436\n",
       "281 2017-07-01  19617.3          19379.2      3378.8  1934.366\n",
       "282 2017-10-01  19938.0          19617.3      3446.3  1768.632\n",
       "283 2018-01-01  20242.2          19938.0      3555.0  1900.187\n",
       "284 2018-04-01  20552.7          20242.2      3580.9  1907.847\n",
       "285 2018-07-01  20742.7          20552.7      3671.7  1907.514\n",
       "286 2018-10-01  20909.9          20742.7      3723.9  1899.589\n",
       "287 2019-01-01  21115.3          20909.9      3772.8  1894.367\n",
       "288 2019-04-01  21329.9          21115.3      3739.7  1938.893\n",
       "289 2019-07-01  21540.3          21329.9      3759.8  1920.338\n",
       "290 2019-10-01  21747.4          21540.3      3732.6  2000.736\n",
       "291 2020-01-01  21561.1          21747.4      3675.9  1739.103\n",
       "292 2020-04-01  19520.1          21561.1      3128.6  1557.064\n",
       "293 2020-07-01  21170.3          19520.1      3688.2  2118.856\n",
       "294 2020-10-01  21494.7          21170.3      3926.3  2082.470\n",
       "295 2021-01-01  22061.5          21494.7      3920.0  2227.745"
      ]
     },
     "execution_count": 8,
     "metadata": {},
     "output_type": "execute_result"
    }
   ],
   "source": [
    "DF[DF['Profit']>520.854679+1.5*(669.457750-53.475250)] #check outllier for profit column"
   ]
  },
  {
   "cell_type": "markdown",
   "metadata": {},
   "source": [
    "======================================================================================================================= <br>\n",
    "There are no outlier in Income, Previous Income, and Investment. The outlier for Profit variable is the data from the fourth quarter of 2009 to first quarter of 2021 and thus, we won't remove the outliers since it is a time series data. \n",
    "======================================================================================================================= <br>"
   ]
  },
  {
   "cell_type": "markdown",
   "metadata": {},
   "source": [
    "### Pair Plot Between Variables"
   ]
  },
  {
   "cell_type": "code",
   "execution_count": 9,
   "metadata": {},
   "outputs": [
    {
     "data": {
      "image/png": "[encoded data removed]",
      "text/plain": [
       "<Figure size 720x720 with 20 Axes>"
      ]
     },
     "metadata": {
      "needs_background": "light"
     },
     "output_type": "display_data"
    }
   ],
   "source": [
    "sns.pairplot(data=DF)\n",
    "plt.show()"
   ]
  },
  {
   "cell_type": "markdown",
   "metadata": {},
   "source": [
    "======================================================================================================================= <br>\n",
    "The pairplot shows that there are linear positive correlations between two variables. \n",
    "======================================================================================================================= <br>"
   ]
  },
  {
   "cell_type": "markdown",
   "metadata": {},
   "source": [
    "### Correlation Between Variables and Correlation Heat Map"
   ]
  },
  {
   "cell_type": "code",
   "execution_count": 10,
   "metadata": {},
   "outputs": [
    {
     "data": {
      "image/png": "[encoded data removed]",
      "text/plain": [
       "<Figure size 864x720 with 2 Axes>"
      ]
     },
     "metadata": {
      "needs_background": "light"
     },
     "output_type": "display_data"
    }
   ],
   "source": [
    "fig, ax = plt.subplots(figsize=(12,10))\n",
    "sns.heatmap(DF.corr(), annot=True, fmt='.2%')\n",
    "plt.show()"
   ]
  },
  {
   "cell_type": "markdown",
   "metadata": {},
   "source": [
    "======================================================================================================================= <br>\n",
    "The heatmap supports our hypothesis above that all of the correlation are strong positive correlations. \n",
    "======================================================================================================================= <br>"
   ]
  },
  {
   "cell_type": "markdown",
   "metadata": {},
   "source": [
    "### Train Test Split\n",
    "\n",
    "The train test split follows the time series train test split rule."
   ]
  },
  {
   "cell_type": "code",
   "execution_count": 11,
   "metadata": {},
   "outputs": [
    {
     "data": {
      "text/html": [
       "<div>\n",
       "<style scoped>\n",
       "    .dataframe tbody tr th:only-of-type {\n",
       "        vertical-align: middle;\n",
       "    }\n",
       "\n",
       "    .dataframe tbody tr th {\n",
       "        vertical-align: top;\n",
       "    }\n",
       "\n",
       "    .dataframe thead th {\n",
       "        text-align: right;\n",
       "    }\n",
       "</style>\n",
       "<table border=\"1\" class=\"dataframe\">\n",
       "  <thead>\n",
       "    <tr style=\"text-align: right;\">\n",
       "      <th></th>\n",
       "      <th>Date</th>\n",
       "      <th>Income</th>\n",
       "      <th>Previous_Income</th>\n",
       "      <th>Investment</th>\n",
       "      <th>Profit</th>\n",
       "    </tr>\n",
       "  </thead>\n",
       "  <tbody>\n",
       "    <tr>\n",
       "      <th>0</th>\n",
       "      <td>1947-04-01</td>\n",
       "      <td>246.0</td>\n",
       "      <td>243.2</td>\n",
       "      <td>34.5</td>\n",
       "      <td>20.788</td>\n",
       "    </tr>\n",
       "    <tr>\n",
       "      <th>1</th>\n",
       "      <td>1947-07-01</td>\n",
       "      <td>249.6</td>\n",
       "      <td>246.0</td>\n",
       "      <td>34.9</td>\n",
       "      <td>20.564</td>\n",
       "    </tr>\n",
       "    <tr>\n",
       "      <th>2</th>\n",
       "      <td>1947-10-01</td>\n",
       "      <td>259.7</td>\n",
       "      <td>249.6</td>\n",
       "      <td>43.3</td>\n",
       "      <td>22.451</td>\n",
       "    </tr>\n",
       "    <tr>\n",
       "      <th>3</th>\n",
       "      <td>1948-01-01</td>\n",
       "      <td>265.7</td>\n",
       "      <td>259.7</td>\n",
       "      <td>47.2</td>\n",
       "      <td>23.739</td>\n",
       "    </tr>\n",
       "    <tr>\n",
       "      <th>4</th>\n",
       "      <td>1948-04-01</td>\n",
       "      <td>272.6</td>\n",
       "      <td>265.7</td>\n",
       "      <td>50.3</td>\n",
       "      <td>24.941</td>\n",
       "    </tr>\n",
       "    <tr>\n",
       "      <th>...</th>\n",
       "      <td>...</td>\n",
       "      <td>...</td>\n",
       "      <td>...</td>\n",
       "      <td>...</td>\n",
       "      <td>...</td>\n",
       "    </tr>\n",
       "    <tr>\n",
       "      <th>231</th>\n",
       "      <td>2005-01-01</td>\n",
       "      <td>12761.3</td>\n",
       "      <td>12522.4</td>\n",
       "      <td>2486.1</td>\n",
       "      <td>1228.657</td>\n",
       "    </tr>\n",
       "    <tr>\n",
       "      <th>232</th>\n",
       "      <td>2005-04-01</td>\n",
       "      <td>12910.0</td>\n",
       "      <td>12761.3</td>\n",
       "      <td>2476.5</td>\n",
       "      <td>1252.584</td>\n",
       "    </tr>\n",
       "    <tr>\n",
       "      <th>233</th>\n",
       "      <td>2005-07-01</td>\n",
       "      <td>13142.9</td>\n",
       "      <td>12910.0</td>\n",
       "      <td>2531.1</td>\n",
       "      <td>1296.981</td>\n",
       "    </tr>\n",
       "    <tr>\n",
       "      <th>234</th>\n",
       "      <td>2005-10-01</td>\n",
       "      <td>13332.3</td>\n",
       "      <td>13142.9</td>\n",
       "      <td>2645.3</td>\n",
       "      <td>1363.540</td>\n",
       "    </tr>\n",
       "    <tr>\n",
       "      <th>235</th>\n",
       "      <td>2006-01-01</td>\n",
       "      <td>13603.9</td>\n",
       "      <td>13332.3</td>\n",
       "      <td>2709.7</td>\n",
       "      <td>1387.911</td>\n",
       "    </tr>\n",
       "  </tbody>\n",
       "</table>\n",
       "<p>236 rows × 5 columns</p>\n",
       "</div>"
      ],
      "text/plain": [
       "          Date   Income  Previous_Income  Investment    Profit\n",
       "0   1947-04-01    246.0            243.2        34.5    20.788\n",
       "1   1947-07-01    249.6            246.0        34.9    20.564\n",
       "2   1947-10-01    259.7            249.6        43.3    22.451\n",
       "3   1948-01-01    265.7            259.7        47.2    23.739\n",
       "4   1948-04-01    272.6            265.7        50.3    24.941\n",
       "..         ...      ...              ...         ...       ...\n",
       "231 2005-01-01  12761.3          12522.4      2486.1  1228.657\n",
       "232 2005-04-01  12910.0          12761.3      2476.5  1252.584\n",
       "233 2005-07-01  13142.9          12910.0      2531.1  1296.981\n",
       "234 2005-10-01  13332.3          13142.9      2645.3  1363.540\n",
       "235 2006-01-01  13603.9          13332.3      2709.7  1387.911\n",
       "\n",
       "[236 rows x 5 columns]"
      ]
     },
     "execution_count": 11,
     "metadata": {},
     "output_type": "execute_result"
    }
   ],
   "source": [
    "size = int(len(DF)*0.8) #take 80% of the initial data as train data and 20% as test data\n",
    "df_train, df_test = DF.iloc[:size], DF.iloc[size:]\n",
    "df_train"
   ]
  },
  {
   "cell_type": "markdown",
   "metadata": {},
   "source": [
    "## <font color='blue'>Hausman Test</font>\n",
    "\n",
    "$H_0$ = There is no simultaneity<br>\n",
    "$H_1$ = There is simultaneity<br>"
   ]
  },
  {
   "cell_type": "markdown",
   "metadata": {},
   "source": [
    "### Regress The Endogenous Variable Investment on Previous Income and Profit to Obtain Estimated Residual"
   ]
  },
  {
   "cell_type": "code",
   "execution_count": 12,
   "metadata": {},
   "outputs": [],
   "source": [
    "HT = df_train.copy()\n",
    "HT = sm.tools.tools.add_constant(HT)\n",
    "Reg_Inv = sm.OLS(HT[\"Investment\"],HT[['const','Previous_Income','Profit']])\n",
    "Mod_Reg_Inv = Reg_Inv.fit()"
   ]
  },
  {
   "cell_type": "markdown",
   "metadata": {},
   "source": [
    "### Regress The Endogenous Variable Income on Predicted Investment, Previous Income, and Estimated Residual"
   ]
  },
  {
   "cell_type": "code",
   "execution_count": 13,
   "metadata": {
    "scrolled": false
   },
   "outputs": [
    {
     "name": "stdout",
     "output_type": "stream",
     "text": [
      "                            OLS Regression Results                            \n",
      "==============================================================================\n",
      "Dep. Variable:                 Income   R-squared:                       1.000\n",
      "Model:                            OLS   Adj. R-squared:                  1.000\n",
      "Method:                 Least Squares   F-statistic:                 1.394e+06\n",
      "Date:                Sun, 11 Jul 2021   Prob (F-statistic):               0.00\n",
      "Time:                        21:36:22   Log-Likelihood:                -1121.0\n",
      "No. Observations:                 236   AIC:                             2250.\n",
      "Df Residuals:                     232   BIC:                             2264.\n",
      "Df Model:                           3                                         \n",
      "Covariance Type:            nonrobust                                         \n",
      "===================================================================================\n",
      "                      coef    std err          t      P>|t|      [0.025      0.975]\n",
      "-----------------------------------------------------------------------------------\n",
      "const              13.9448      2.775      5.025      0.000       8.477      19.413\n",
      "Previous_Income     0.9408      0.013     72.125      0.000       0.915       0.967\n",
      "Pred_Investment     0.3857      0.069      5.556      0.000       0.249       0.523\n",
      "Residual            0.1409      0.030      4.640      0.000       0.081       0.201\n",
      "==============================================================================\n",
      "Omnibus:                       26.737   Durbin-Watson:                   1.498\n",
      "Prob(Omnibus):                  0.000   Jarque-Bera (JB):              138.057\n",
      "Skew:                          -0.052   Prob(JB):                     1.05e-30\n",
      "Kurtosis:                       6.745   Cond. No.                     8.00e+03\n",
      "==============================================================================\n",
      "\n",
      "Warnings:\n",
      "[1] Standard Errors assume that the covariance matrix of the errors is correctly specified.\n",
      "[2] The condition number is large,  8e+03. This might indicate that there are\n",
      "strong multicollinearity or other numerical problems.\n"
     ]
    }
   ],
   "source": [
    "HT['Pred_Investment'] = Mod_Reg_Inv.predict()\n",
    "HT['Residual'] = Mod_Reg_Inv.resid\n",
    "\n",
    "Reg_Inc = sm.OLS(HT['Income'], HT[['const','Previous_Income','Pred_Investment','Residual']])\n",
    "Mod_Reg_Inc = Reg_Inc.fit()\n",
    "print(Mod_Reg_Inc.summary())"
   ]
  },
  {
   "cell_type": "code",
   "execution_count": 14,
   "metadata": {},
   "outputs": [
    {
     "data": {
      "text/plain": [
       "Wu-Hausman test of exogeneity\n",
       "H0: All endogenous variables are exogenous\n",
       "Statistic: 7.7377\n",
       "P-value: 0.0059\n",
       "Distributed: F(1,233)\n",
       "WaldTestStatistic, id: 0x1ea7fba9dc8"
      ]
     },
     "execution_count": 14,
     "metadata": {},
     "output_type": "execute_result"
    }
   ],
   "source": [
    "dependent = HT['Income']\n",
    "exo = HT['Previous_Income']\n",
    "endogen = HT['Investment']\n",
    "inst = HT['Profit']\n",
    "ivmod = IV2SLS(dependent, exo, endogen, inst)\n",
    "res_2sls = ivmod.fit()\n",
    "res_2sls.wu_hausman()"
   ]
  },
  {
   "cell_type": "markdown",
   "metadata": {},
   "source": [
    "======================================================================================================================= <br>\n",
    "Since the residual p-value from the OLS summary above and the p-value of the Wu-Hausman is lower than 5%, we reject $H_0$. Thus, investment is a endogenous variables to predict income.\n",
    "======================================================================================================================= <br>"
   ]
  },
  {
   "cell_type": "markdown",
   "metadata": {},
   "source": [
    "## <font color='blue'>Modelling using 2SLS to Predict Income</font>"
   ]
  },
  {
   "cell_type": "code",
   "execution_count": 15,
   "metadata": {},
   "outputs": [
    {
     "name": "stdout",
     "output_type": "stream",
     "text": [
      "                          IV-2SLS Estimation Summary                          \n",
      "==============================================================================\n",
      "Dep. Variable:                 Income   R-squared:                      0.9999\n",
      "Estimator:                    IV-2SLS   Adj. R-squared:                 0.9999\n",
      "No. Observations:                 236   F-statistic:                 2.005e+06\n",
      "Date:                Sun, Jul 11 2021   P-value (F-stat)                0.0000\n",
      "Time:                        21:36:22   Distribution:                  chi2(2)\n",
      "Cov. Estimator:                robust                                         \n",
      "                                                                              \n",
      "                                Parameter Estimates                                \n",
      "===================================================================================\n",
      "                 Parameter  Std. Err.     T-stat    P-value    Lower CI    Upper CI\n",
      "-----------------------------------------------------------------------------------\n",
      "Intercept           13.945     2.6404     5.2814     0.0000      8.7698      19.120\n",
      "Previous_Income     0.9408     0.0227     41.448     0.0000      0.8963      0.9853\n",
      "Investment          0.3857     0.1194     3.2295     0.0012      0.1516      0.6198\n",
      "===================================================================================\n",
      "\n",
      "Endogenous: Investment\n",
      "Instruments: Profit\n",
      "Robust Covariance (Heteroskedastic)\n",
      "Debiased: False\n"
     ]
    }
   ],
   "source": [
    "Formula = 'Income ~ 1 + Previous_Income + [Investment ~ Profit]'\n",
    "Model_2SLS = IV2SLS.from_formula(Formula, df_train).fit(cov_type = 'robust')\n",
    "print(Model_2SLS.summary)"
   ]
  },
  {
   "cell_type": "code",
   "execution_count": 16,
   "metadata": {
    "scrolled": false
   },
   "outputs": [
    {
     "name": "stdout",
     "output_type": "stream",
     "text": [
      "    First Stage Estimation Results    \n",
      "======================================\n",
      "                            Investment\n",
      "--------------------------------------\n",
      "R-squared                       0.9925\n",
      "Partial R-squared               0.1605\n",
      "Shea's R-squared                0.1605\n",
      "Partial F-statistic             29.676\n",
      "P-value (Partial F-stat)     5.107e-08\n",
      "Partial F-stat Distn           chi2(1)\n",
      "========================== ===========\n",
      "Intercept                      -9.6952\n",
      "                             (-3.2557)\n",
      "Previous_Income                 0.1677\n",
      "                              (36.172)\n",
      "Profit                          0.2977\n",
      "                              (5.4476)\n",
      "--------------------------------------\n",
      "\n",
      "T-stats reported in parentheses\n",
      "T-stats use same covariance type as original model\n"
     ]
    }
   ],
   "source": [
    "print(Model_2SLS.first_stage)"
   ]
  },
  {
   "cell_type": "markdown",
   "metadata": {},
   "source": [
    "======================================================================================================================= <br>\n",
    "The Model that we get from the summary is<br>\n",
    "$\\hat {Y_t} = 13.945 + 0.9408 Y_{t-1} + 0.3857 \\hat{I_t}$<br>\n",
    "\n",
    "where<br>\n",
    "$\\hat {I_t} = -9.6952 + 0.1677 Y_{t-1} + 0.2977 Q_t$<br>\n",
    "\n",
    "From the IV-2SLS Estimation Summary, the p-value of Previous Income and Investment is lower than 0.05 which means they are significant to predict Income. Both the $R^2$ and Adj $R^2$ is higher than 0.75 which indicates that the model could predict the quarterly national income data very well. The first stage estimation result shows us the linear regression equation above to predict $I_t$. \n",
    "======================================================================================================================= <br>"
   ]
  },
  {
   "cell_type": "markdown",
   "metadata": {},
   "source": [
    "## <font color='blue'>Modelling using OLS to Predict Income</font>"
   ]
  },
  {
   "cell_type": "code",
   "execution_count": 17,
   "metadata": {
    "scrolled": false
   },
   "outputs": [
    {
     "name": "stdout",
     "output_type": "stream",
     "text": [
      "                            OLS Regression Results                            \n",
      "==============================================================================\n",
      "Dep. Variable:             Investment   R-squared:                       0.993\n",
      "Model:                            OLS   Adj. R-squared:                  0.992\n",
      "Method:                 Least Squares   F-statistic:                 1.544e+04\n",
      "Date:                Sun, 11 Jul 2021   Prob (F-statistic):          2.38e-248\n",
      "Time:                        21:36:22   Log-Likelihood:                -1303.0\n",
      "No. Observations:                 236   AIC:                             2612.\n",
      "Df Residuals:                     233   BIC:                             2622.\n",
      "Df Model:                           2                                         \n",
      "Covariance Type:            nonrobust                                         \n",
      "===================================================================================\n",
      "                      coef    std err          t      P>|t|      [0.025      0.975]\n",
      "-----------------------------------------------------------------------------------\n",
      "const              -9.6952      5.616     -1.726      0.086     -20.759       1.369\n",
      "Previous_Income     0.1677      0.003     52.446      0.000       0.161       0.174\n",
      "Profit              0.2977      0.045      6.674      0.000       0.210       0.386\n",
      "==============================================================================\n",
      "Omnibus:                       22.220   Durbin-Watson:                   0.160\n",
      "Prob(Omnibus):                  0.000   Jarque-Bera (JB):               82.131\n",
      "Skew:                           0.184   Prob(JB):                     1.46e-18\n",
      "Kurtosis:                       5.867   Cond. No.                     7.39e+03\n",
      "==============================================================================\n",
      "\n",
      "Warnings:\n",
      "[1] Standard Errors assume that the covariance matrix of the errors is correctly specified.\n",
      "[2] The condition number is large, 7.39e+03. This might indicate that there are\n",
      "strong multicollinearity or other numerical problems.\n"
     ]
    }
   ],
   "source": [
    "ols = df_train.copy()\n",
    "ols = sm.tools.tools.add_constant(ols)\n",
    "X1 = ols[['const','Previous_Income', 'Profit']]\n",
    "Y1 = ols['Investment']\n",
    "Model_OLS1 = sm.OLS(Y1,X1).fit()\n",
    "print(Model_OLS1.summary()) #The OLS Regression Results below is the same as First Stage Estimation Results in 2SLS method "
   ]
  },
  {
   "cell_type": "code",
   "execution_count": 18,
   "metadata": {},
   "outputs": [
    {
     "name": "stdout",
     "output_type": "stream",
     "text": [
      "                            OLS Regression Results                            \n",
      "==============================================================================\n",
      "Dep. Variable:                 Income   R-squared:                       1.000\n",
      "Model:                            OLS   Adj. R-squared:                  1.000\n",
      "Method:                 Least Squares   F-statistic:                 1.922e+06\n",
      "Date:                Sun, 11 Jul 2021   Prob (F-statistic):               0.00\n",
      "Time:                        21:36:22   Log-Likelihood:                -1131.5\n",
      "No. Observations:                 236   AIC:                             2269.\n",
      "Df Residuals:                     233   BIC:                             2279.\n",
      "Df Model:                           2                                         \n",
      "Covariance Type:            nonrobust                                         \n",
      "===================================================================================\n",
      "                      coef    std err          t      P>|t|      [0.025      0.975]\n",
      "-----------------------------------------------------------------------------------\n",
      "const              13.9448      2.895      4.817      0.000       8.241      19.649\n",
      "Previous_Income     0.9408      0.014     69.142      0.000       0.914       0.968\n",
      "Pred_Investment     0.3857      0.072      5.326      0.000       0.243       0.528\n",
      "==============================================================================\n",
      "Omnibus:                       28.862   Durbin-Watson:                   1.500\n",
      "Prob(Omnibus):                  0.000   Jarque-Bera (JB):              136.395\n",
      "Skew:                           0.253   Prob(JB):                     2.41e-30\n",
      "Kurtosis:                       6.690   Cond. No.                     8.00e+03\n",
      "==============================================================================\n",
      "\n",
      "Warnings:\n",
      "[1] Standard Errors assume that the covariance matrix of the errors is correctly specified.\n",
      "[2] The condition number is large,  8e+03. This might indicate that there are\n",
      "strong multicollinearity or other numerical problems.\n"
     ]
    }
   ],
   "source": [
    "ols['Pred_Investment'] = Model_OLS1.predict()\n",
    "X2 = ols[['const','Previous_Income', 'Pred_Investment']]\n",
    "Y2 = ols['Income']\n",
    "Model_OLS2 = sm.OLS(Y2,X2).fit()\n",
    "print(Model_OLS2.summary()) "
   ]
  },
  {
   "cell_type": "markdown",
   "metadata": {},
   "source": [
    "======================================================================================================================= <br>\n",
    "The model produced using OLS method is the same as two-staged least squared. Thus, both method could be used to predict National Income (GDP).\n",
    "======================================================================================================================= <br>"
   ]
  },
  {
   "cell_type": "markdown",
   "metadata": {},
   "source": [
    "## <font color='blue'>Uji Asumsi Klasik</font>"
   ]
  },
  {
   "cell_type": "markdown",
   "metadata": {},
   "source": [
    "### Multicollinearity\n",
    "\n",
    "There are no multicollinearity since there is only one exogenous variable for each equation."
   ]
  },
  {
   "cell_type": "markdown",
   "metadata": {},
   "source": [
    "### Residual Normality"
   ]
  },
  {
   "cell_type": "code",
   "execution_count": 19,
   "metadata": {},
   "outputs": [],
   "source": [
    "df_train[\"Resid Final\"] = Model_2SLS.resids"
   ]
  },
  {
   "cell_type": "code",
   "execution_count": 20,
   "metadata": {},
   "outputs": [
    {
     "data": {
      "image/png": "[encoded data removed]",
      "text/plain": [
       "<Figure size 432x288 with 1 Axes>"
      ]
     },
     "metadata": {},
     "output_type": "display_data"
    }
   ],
   "source": [
    "sns.set_style('whitegrid')\n",
    "sm.qqplot(df_train['Resid Final'], line='s')\n",
    "plt.title('Train Residual Q-Q Plot')\n",
    "plt.ylabel('Standardized Residuals')\n",
    "py.show()"
   ]
  },
  {
   "cell_type": "code",
   "execution_count": 21,
   "metadata": {},
   "outputs": [
    {
     "name": "stdout",
     "output_type": "stream",
     "text": [
      "{'JB': 175.05301679119944, 'JB p-value': 9.721211310873134e-39, 'skew': -0.22410712017498513, 'kurtosis': 7.19536717133639}\n"
     ]
    }
   ],
   "source": [
    "labels = ['JB', 'JB p-value', 'skew', 'kurtosis']\n",
    "Jb = statsmodels.stats.stattools.jarque_bera(df_train['Resid Final'], axis=0)\n",
    "print(dict(zip(labels, Jb)))"
   ]
  },
  {
   "cell_type": "markdown",
   "metadata": {},
   "source": [
    "======================================================================================================================= <br>\n",
    "The Residual Q-Q plot shows that the line is not straight enough, which suggest the error distribution is not normal. Supported with the JB p-value < 5% which indicates that the residual distribution is not normal. The skewness between -0.5 and 0.5 indicates the data is fairly symmetrical but the kurtosis greater than 3, indicates the distribution' shape is thin “bell” with a high peak. \n",
    "\n",
    "Since the normality assumption is failed to hold. Thus, we try to transform the model without checking the homoskedasticity assumption.\n",
    "======================================================================================================================= <br>"
   ]
  },
  {
   "cell_type": "markdown",
   "metadata": {},
   "source": [
    "## <font color='blue'>Transformation</font>"
   ]
  },
  {
   "cell_type": "code",
   "execution_count": 22,
   "metadata": {
    "scrolled": false
   },
   "outputs": [
    {
     "data": {
      "image/png": "[encoded data removed]",
      "text/plain": [
       "<Figure size 720x720 with 20 Axes>"
      ]
     },
     "metadata": {},
     "output_type": "display_data"
    }
   ],
   "source": [
    "tf = df_train[['Income','Previous_Income','Profit','Investment']].copy()\n",
    "sns.pairplot(data = tf)\n",
    "plt.show()"
   ]
  },
  {
   "cell_type": "markdown",
   "metadata": {},
   "source": [
    "======================================================================================================================= <br>\n",
    "Above pairplot shows that all variables above is a right-skewed distribution. Therefore, we will use log transformation or square or higher roots transformation for all variable.\n",
    "======================================================================================================================= <br>"
   ]
  },
  {
   "cell_type": "code",
   "execution_count": 23,
   "metadata": {},
   "outputs": [],
   "source": [
    "tf['logIncome'] = np.log(tf['Income'])\n",
    "tf['logPrevious_Income'] = np.log(tf['Previous_Income'])\n",
    "tf['logProfit'] = np.log(tf['Profit'])\n",
    "tf['logInvestment'] = np.log(tf['Investment'])"
   ]
  },
  {
   "cell_type": "markdown",
   "metadata": {},
   "source": [
    "### Modelling using 2SLS to Predict Log Income"
   ]
  },
  {
   "cell_type": "code",
   "execution_count": 24,
   "metadata": {},
   "outputs": [
    {
     "name": "stdout",
     "output_type": "stream",
     "text": [
      "                          IV-2SLS Estimation Summary                          \n",
      "==============================================================================\n",
      "Dep. Variable:              logIncome   R-squared:                      0.9999\n",
      "Estimator:                    IV-2SLS   Adj. R-squared:                 0.9999\n",
      "No. Observations:                 236   F-statistic:                 4.615e+06\n",
      "Date:                Sun, Jul 11 2021   P-value (F-stat)                0.0000\n",
      "Time:                        21:36:32   Distribution:                  chi2(2)\n",
      "Cov. Estimator:                robust                                         \n",
      "                                                                              \n",
      "                                 Parameter Estimates                                  \n",
      "======================================================================================\n",
      "                    Parameter  Std. Err.     T-stat    P-value    Lower CI    Upper CI\n",
      "--------------------------------------------------------------------------------------\n",
      "Intercept              0.2218     0.0299     7.4124     0.0000      0.1632      0.2805\n",
      "logPrevious_Income     0.8958     0.0150     59.779     0.0000      0.8664      0.9251\n",
      "logInvestment          0.1001     0.0143     6.9796     0.0000      0.0720      0.1282\n",
      "======================================================================================\n",
      "\n",
      "Endogenous: logInvestment\n",
      "Instruments: logProfit\n",
      "Robust Covariance (Heteroskedastic)\n",
      "Debiased: False\n"
     ]
    }
   ],
   "source": [
    "TFormula = 'logIncome ~ 1 + logPrevious_Income + [logInvestment ~ logProfit]'\n",
    "TModel_2SLS = IV2SLS.from_formula(TFormula, tf).fit(cov_type = 'robust')\n",
    "print(TModel_2SLS.summary)"
   ]
  },
  {
   "cell_type": "code",
   "execution_count": 25,
   "metadata": {},
   "outputs": [
    {
     "name": "stdout",
     "output_type": "stream",
     "text": [
      "     First Stage Estimation Results     \n",
      "========================================\n",
      "                           logInvestment\n",
      "----------------------------------------\n",
      "R-squared                         0.9962\n",
      "Partial R-squared                 0.2046\n",
      "Shea's R-squared                  0.2046\n",
      "Partial F-statistic               45.529\n",
      "P-value (Partial F-stat)       1.504e-11\n",
      "Partial F-stat Distn             chi2(1)\n",
      "==========================   ===========\n",
      "Intercept                        -1.4878\n",
      "                               (-16.432)\n",
      "logPrevious_Income                0.8321\n",
      "                                (26.414)\n",
      "logProfit                         0.2134\n",
      "                                (6.7475)\n",
      "----------------------------------------\n",
      "\n",
      "T-stats reported in parentheses\n",
      "T-stats use same covariance type as original model\n"
     ]
    }
   ],
   "source": [
    "print(TModel_2SLS.first_stage)"
   ]
  },
  {
   "cell_type": "markdown",
   "metadata": {},
   "source": [
    "======================================================================================================================= <br>\n",
    "The Model that we get from the summary is<br>\n",
    "$\\hat {ln(Y_t)} = 0.2218 + 0.8958 ln(Y_{t-1}) + 0.1001 \\hat{ln(I_t)}$<br>\n",
    "\n",
    "where<br>\n",
    "$\\hat {ln(I_t)} = -1.4878 + 0.8321 ln(Y_{t-1}) + 0.2134 ln(Q_t)$<br>\n",
    "\n",
    "From the IV-2SLS Estimation Summary, the p-value of log Previous Income and log Investment is lower than 0.05 which means they are significant to predict Income. The $R^2$ and Adj $R^2$ is the same as original model. The first stage estimation result shows us the linear regression equation above to predict $ln(I_t)$. \n",
    "======================================================================================================================= <br>"
   ]
  },
  {
   "cell_type": "markdown",
   "metadata": {},
   "source": [
    "### Modelling using OLS to Predict Log Income"
   ]
  },
  {
   "cell_type": "code",
   "execution_count": 26,
   "metadata": {},
   "outputs": [
    {
     "name": "stdout",
     "output_type": "stream",
     "text": [
      "                            OLS Regression Results                            \n",
      "==============================================================================\n",
      "Dep. Variable:          logInvestment   R-squared:                       0.996\n",
      "Model:                            OLS   Adj. R-squared:                  0.996\n",
      "Method:                 Least Squares   F-statistic:                 3.083e+04\n",
      "Date:                Sun, 11 Jul 2021   Prob (F-statistic):          3.67e-283\n",
      "Time:                        21:36:32   Log-Likelihood:                 264.12\n",
      "No. Observations:                 236   AIC:                            -522.2\n",
      "Df Residuals:                     233   BIC:                            -511.9\n",
      "Df Model:                           2                                         \n",
      "Covariance Type:            nonrobust                                         \n",
      "======================================================================================\n",
      "                         coef    std err          t      P>|t|      [0.025      0.975]\n",
      "--------------------------------------------------------------------------------------\n",
      "const                 -1.4878      0.074    -20.165      0.000      -1.633      -1.342\n",
      "logPrevious_Income     0.8321      0.027     31.269      0.000       0.780       0.885\n",
      "logProfit              0.2134      0.028      7.742      0.000       0.159       0.268\n",
      "==============================================================================\n",
      "Omnibus:                        0.561   Durbin-Watson:                   0.322\n",
      "Prob(Omnibus):                  0.755   Jarque-Bera (JB):                0.694\n",
      "Skew:                          -0.074   Prob(JB):                        0.707\n",
      "Kurtosis:                       2.779   Cond. No.                         145.\n",
      "==============================================================================\n",
      "\n",
      "Warnings:\n",
      "[1] Standard Errors assume that the covariance matrix of the errors is correctly specified.\n"
     ]
    }
   ],
   "source": [
    "ols1 = tf.copy()\n",
    "ols1 = sm.tools.tools.add_constant(ols1)\n",
    "tX1 = ols1[['const','logPrevious_Income', 'logProfit']]\n",
    "tY1 = ols1['logInvestment']\n",
    "tModel_OLS1 = sm.OLS(tY1,tX1).fit()\n",
    "print(tModel_OLS1.summary())"
   ]
  },
  {
   "cell_type": "code",
   "execution_count": 27,
   "metadata": {},
   "outputs": [
    {
     "name": "stdout",
     "output_type": "stream",
     "text": [
      "                            OLS Regression Results                            \n",
      "==============================================================================\n",
      "Dep. Variable:              logIncome   R-squared:                       1.000\n",
      "Model:                            OLS   Adj. R-squared:                  1.000\n",
      "Method:                 Least Squares   F-statistic:                 1.710e+06\n",
      "Date:                Sun, 11 Jul 2021   Prob (F-statistic):               0.00\n",
      "Time:                        21:36:32   Log-Likelihood:                 746.45\n",
      "No. Observations:                 236   AIC:                            -1487.\n",
      "Df Residuals:                     233   BIC:                            -1477.\n",
      "Df Model:                           2                                         \n",
      "Covariance Type:            nonrobust                                         \n",
      "======================================================================================\n",
      "                         coef    std err          t      P>|t|      [0.025      0.975]\n",
      "--------------------------------------------------------------------------------------\n",
      "const                  0.2218      0.034      6.569      0.000       0.155       0.288\n",
      "logPrevious_Income     0.8958      0.017     51.669      0.000       0.862       0.930\n",
      "Pred_logInvestment     0.1001      0.017      5.983      0.000       0.067       0.133\n",
      "==============================================================================\n",
      "Omnibus:                       12.830   Durbin-Watson:                   1.168\n",
      "Prob(Omnibus):                  0.002   Jarque-Bera (JB):               29.880\n",
      "Skew:                          -0.122   Prob(JB):                     3.25e-07\n",
      "Kurtosis:                       4.726   Cond. No.                         601.\n",
      "==============================================================================\n",
      "\n",
      "Warnings:\n",
      "[1] Standard Errors assume that the covariance matrix of the errors is correctly specified.\n"
     ]
    }
   ],
   "source": [
    "ols1['Pred_logInvestment'] = tModel_OLS1.predict()\n",
    "tX2 = ols1[['const','logPrevious_Income', 'Pred_logInvestment']]\n",
    "tY2 = ols1['logIncome']\n",
    "tModel_OLS2 = sm.OLS(tY2,tX2).fit()\n",
    "print(tModel_OLS2.summary()) "
   ]
  },
  {
   "cell_type": "markdown",
   "metadata": {},
   "source": [
    "======================================================================================================================= <br>\n",
    "The model produced using OLS method is the same as two-staged least squared. Thus, both method could be used to predict National Income (GDP).\n",
    "======================================================================================================================= <br>"
   ]
  },
  {
   "cell_type": "markdown",
   "metadata": {},
   "source": [
    "### Uji Asumsi Klasik"
   ]
  },
  {
   "cell_type": "markdown",
   "metadata": {},
   "source": [
    "#### Multicollinearity\n",
    "\n",
    "There are no multicollinearity since there is only one exogenous variable for each equation."
   ]
  },
  {
   "cell_type": "markdown",
   "metadata": {},
   "source": [
    "#### Residual Normality"
   ]
  },
  {
   "cell_type": "code",
   "execution_count": 28,
   "metadata": {},
   "outputs": [],
   "source": [
    "tf[\"Resid Final\"] = TModel_2SLS.resids"
   ]
  },
  {
   "cell_type": "code",
   "execution_count": 29,
   "metadata": {},
   "outputs": [
    {
     "data": {
      "image/png": "[encoded data removed]",
      "text/plain": [
       "<Figure size 432x288 with 1 Axes>"
      ]
     },
     "metadata": {},
     "output_type": "display_data"
    }
   ],
   "source": [
    "sns.set_style('whitegrid')\n",
    "sm.qqplot(tf['Resid Final'], line='s')\n",
    "plt.title('Train Residual Q-Q Plot')\n",
    "plt.ylabel('Standardized Residuals')\n",
    "py.show()"
   ]
  },
  {
   "cell_type": "code",
   "execution_count": 30,
   "metadata": {},
   "outputs": [
    {
     "name": "stdout",
     "output_type": "stream",
     "text": [
      "{'JB': 2.1687904954129493, 'JB p-value': 0.33810619457679914, 'skew': 0.13301680571892585, 'kurtosis': 3.387015611081193}\n"
     ]
    }
   ],
   "source": [
    "tJb = statsmodels.stats.stattools.jarque_bera(tf['Resid Final'], axis=0)\n",
    "print(dict(zip(labels, tJb)))"
   ]
  },
  {
   "cell_type": "markdown",
   "metadata": {},
   "source": [
    "======================================================================================================================= <br>\n",
    "From the normal Q-Q plot, we can see that we almost have a straight line, which suggest normality in error distribution. Supported with the JB p-value > 5% which indicates that the residual distribution is normal. The skewness between -0.5 and 0.5 indicates the data is fairly symmetrical and the kurtosis around 3 indicates the distribution is normal. \n",
    "======================================================================================================================= <br>"
   ]
  },
  {
   "cell_type": "markdown",
   "metadata": {},
   "source": [
    "#### Homoskedasticity\n",
    "\n",
    "We will use Breusch-Pagan heteroscedasticity test"
   ]
  },
  {
   "cell_type": "code",
   "execution_count": 31,
   "metadata": {},
   "outputs": [
    {
     "name": "stdout",
     "output_type": "stream",
     "text": [
      "Breusch-Pagan Statistics: 5.9154329598514135\n",
      "Breusch-Pagan P-Value: 0.05193738191715138\n"
     ]
    }
   ],
   "source": [
    "m1 = 'logIncome ~ 1 + logInvestment + logPrevious_Income '\n",
    "y, X = dmatrices(m1, tf, return_type = 'dataframe')\n",
    "\n",
    "bp_Income = het_breuschpagan(tf[\"Resid Final\"], X)\n",
    "bp_Income\n",
    "\n",
    "print(\"Breusch-Pagan Statistics:\", bp_Income[0])\n",
    "print(\"Breusch-Pagan P-Value:\", bp_Income[1])"
   ]
  },
  {
   "cell_type": "markdown",
   "metadata": {},
   "source": [
    "======================================================================================================================= <br>\n",
    "Since the Breusch Pagan p-value is > 0.05, it is indicated as homoskedasticity. So according to these tests, this model is homoskedastic.\n",
    "======================================================================================================================= <br>"
   ]
  },
  {
   "cell_type": "markdown",
   "metadata": {},
   "source": [
    "## <font color='blue'>Predicting Test Dataset</font>"
   ]
  },
  {
   "cell_type": "markdown",
   "metadata": {},
   "source": [
    "### Original Model"
   ]
  },
  {
   "cell_type": "code",
   "execution_count": 32,
   "metadata": {},
   "outputs": [
    {
     "name": "stdout",
     "output_type": "stream",
     "text": [
      "Sum of Residual: 1043.3701358700546\n",
      "Sum of Residual Sq: 6731357.131059389\n",
      "Root Mean Square Error: 2594.485908818814\n",
      "R²: 0.9827873970190768\n"
     ]
    }
   ],
   "source": [
    "df_test1 = df_test.copy()\n",
    "df_test1['Pred_Income'] = Model_2SLS.predict(data = df_test1)\n",
    "df_test1['Residual Income'] = df_test1['Income'] - df_test1['Pred_Income']\n",
    "df_test1['Residual Sq Income'] = df_test1['Residual Income']**2\n",
    "\n",
    "RS_1 = df_test1['Residual Income'].sum()\n",
    "print('Sum of Residual:', RS_1)\n",
    "RSS_1 = df_test1['Residual Sq Income'].sum()\n",
    "print('Sum of Residual Sq:', RSS_1)\n",
    "RMSE_1 = (df_test1['Residual Sq Income'].sum())**(1/2)\n",
    "print('Root Mean Square Error:', RMSE_1)\n",
    "R2_1 = 1 - (RSS_1/(((df_test1['Income'] - df_test1['Income'].mean())**2).sum()))\n",
    "print(f'R\\N{SUPERSCRIPT TWO}: {R2_1}')"
   ]
  },
  {
   "cell_type": "markdown",
   "metadata": {},
   "source": [
    "### Transformed Model"
   ]
  },
  {
   "cell_type": "code",
   "execution_count": 33,
   "metadata": {},
   "outputs": [
    {
     "name": "stdout",
     "output_type": "stream",
     "text": [
      "Sum of Residual: 0.286133174662913\n",
      "Sum of Residual Sq: 0.0190813341267614\n",
      "Root Mean Square Error: 0.1381352023445197\n",
      "R²: 0.9999999999512076\n"
     ]
    }
   ],
   "source": [
    "df_test2 = df_test.copy()\n",
    "df_test2['logIncome'] = np.log(df_test2['Income'])\n",
    "df_test2['logPrevious_Income'] = np.log(df_test2['Previous_Income'])\n",
    "df_test2['logProfit'] = np.log(df_test2['Profit'])\n",
    "df_test2['logInvestment'] = np.log(df_test2['Investment'])\n",
    "\n",
    "df_test2['Pred_logIncome'] = TModel_2SLS.predict(data = df_test2)\n",
    "df_test2['Residual logIncome'] = df_test2['logIncome'] - df_test2['Pred_logIncome']\n",
    "df_test2['Residual Sq logIncome'] = df_test2['Residual logIncome']**2\n",
    "\n",
    "RS_2 = df_test2['Residual logIncome'].sum()\n",
    "print('Sum of Residual:', RS_2)\n",
    "RSS_2 = df_test2['Residual Sq logIncome'].sum()\n",
    "print('Sum of Residual Sq:', RSS_2)\n",
    "RMSE_2 = (df_test2['Residual Sq logIncome'].sum())**(1/2)\n",
    "print('Root Mean Square Error:', RMSE_2)\n",
    "R2_2 = 1 - (RSS_2/(((df_test2['Income'] - df_test2['Income'].mean())**2).sum()))\n",
    "print(f'R\\N{SUPERSCRIPT TWO}: {R2_2}')"
   ]
  },
  {
   "cell_type": "code",
   "execution_count": 34,
   "metadata": {},
   "outputs": [
    {
     "name": "stdout",
     "output_type": "stream",
     "text": [
      "Sum of Residual: 4652.209502714764\n",
      "Sum of Residual Sq: 6754184.72732192\n",
      "Root Mean Square Error: 2598.881437719297\n"
     ]
    }
   ],
   "source": [
    "df_test2['Pred_Income'] = np.exp(df_test2['Pred_logIncome'])\n",
    "df_test2['Residual Income'] = df_test2['Income'] - df_test2['Pred_Income']\n",
    "df_test2['Residual Sq Income'] = df_test2['Residual Income']**2\n",
    "\n",
    "RS_3 = df_test2['Residual Income'].sum()\n",
    "print('Sum of Residual:', RS_3)\n",
    "RSS_3 = df_test2['Residual Sq Income'].sum()\n",
    "print('Sum of Residual Sq:', RSS_3)\n",
    "RMSE_3 = (df_test2['Residual Sq Income'].sum())**(1/2)\n",
    "print('Root Mean Square Error:', RMSE_3)"
   ]
  },
  {
   "cell_type": "code",
   "execution_count": 35,
   "metadata": {},
   "outputs": [
    {
     "data": {
      "text/html": [
       "<div>\n",
       "<style scoped>\n",
       "    .dataframe tbody tr th:only-of-type {\n",
       "        vertical-align: middle;\n",
       "    }\n",
       "\n",
       "    .dataframe tbody tr th {\n",
       "        vertical-align: top;\n",
       "    }\n",
       "\n",
       "    .dataframe thead th {\n",
       "        text-align: right;\n",
       "    }\n",
       "</style>\n",
       "<table border=\"1\" class=\"dataframe\">\n",
       "  <thead>\n",
       "    <tr style=\"text-align: right;\">\n",
       "      <th></th>\n",
       "      <th>Original Model</th>\n",
       "      <th>Transformed Model</th>\n",
       "    </tr>\n",
       "    <tr>\n",
       "      <th></th>\n",
       "      <th></th>\n",
       "      <th></th>\n",
       "    </tr>\n",
       "  </thead>\n",
       "  <tbody>\n",
       "    <tr>\n",
       "      <th>Sum of Residual</th>\n",
       "      <td>1.043370e+03</td>\n",
       "      <td>4.652210e+03</td>\n",
       "    </tr>\n",
       "    <tr>\n",
       "      <th>Sum of Residual Squared</th>\n",
       "      <td>6.731357e+06</td>\n",
       "      <td>6.754185e+06</td>\n",
       "    </tr>\n",
       "    <tr>\n",
       "      <th>Root Mean Square Error</th>\n",
       "      <td>2.594486e+03</td>\n",
       "      <td>2.598881e+03</td>\n",
       "    </tr>\n",
       "    <tr>\n",
       "      <th>R-squared</th>\n",
       "      <td>9.827874e-01</td>\n",
       "      <td>1.000000e+00</td>\n",
       "    </tr>\n",
       "  </tbody>\n",
       "</table>\n",
       "</div>"
      ],
      "text/plain": [
       "                         Original Model  Transformed Model\n",
       "                                                          \n",
       "Sum of Residual            1.043370e+03       4.652210e+03\n",
       "Sum of Residual Squared    6.731357e+06       6.754185e+06\n",
       "Root Mean Square Error     2.594486e+03       2.598881e+03\n",
       "R-squared                  9.827874e-01       1.000000e+00"
      ]
     },
     "execution_count": 35,
     "metadata": {},
     "output_type": "execute_result"
    }
   ],
   "source": [
    "p = ['Sum of Residual', 'Sum of Residual Squared', 'Root Mean Square Error', 'R-squared']\n",
    "m1 = [RS_1, RSS_1, RMSE_1, R2_1]\n",
    "m2 = [RS_3, RSS_3, RMSE_3, R2_2]\n",
    "\n",
    "columns = {' ': p, \n",
    "           'Original Model': m1, \n",
    "           'Transformed Model': m2}\n",
    "compare = pd.DataFrame(columns).set_index(' ')\n",
    "compare"
   ]
  },
  {
   "cell_type": "markdown",
   "metadata": {},
   "source": [
    "======================================================================================================================= <br>\n",
    "Based on the comparison table above shows that the original model have lowest sum of residual, sum of residual squared, and root mean square error value. But the transformed model could predict the log of income more accurately and it's R-squared is better than the original model. and \n",
    "\n",
    "### <font color='red'>Conclusion:</font>\n",
    "The best model to use to predict the National Income (GDP) is the transformed model since it has the highest R-squared and is able to fullfil all of the classic assumption for the regression. Even though the original model have the smallest value of the Sum of Residual, Sum of Residual Squared, and the Root Mean Square Error while predicting the National Income, the classic assumption for regression is failed to hold. \n",
    "======================================================================================================================= <br>"
   ]
  }
 ],
 "metadata": {
  "kernelspec": {
   "display_name": "Python 3",
   "language": "python",
   "name": "python3"
  },
  "language_info": {
   "codemirror_mode": {
    "name": "ipython",
    "version": 3
   },
   "file_extension": ".py",
   "mimetype": "text/x-python",
   "name": "python",
   "nbconvert_exporter": "python",
   "pygments_lexer": "ipython3",
   "version": "3.7.6"
  }
 },
 "nbformat": 4,
 "nbformat_minor": 4
}
